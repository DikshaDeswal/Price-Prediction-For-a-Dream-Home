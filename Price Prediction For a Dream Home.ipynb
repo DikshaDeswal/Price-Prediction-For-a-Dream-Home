{
 "cells": [
  {
   "cell_type": "markdown",
   "id": "caf2dd62",
   "metadata": {},
   "source": [
    "# Dream House Price Prediction"
   ]
  },
  {
   "cell_type": "markdown",
   "id": "012882b5",
   "metadata": {},
   "source": [
    "ROADMAP TO THIS LINEAR REGRESSION BASED HOUSE PRICE PREDICTION PREDICTION MODEL\n",
    "\n",
    "1. Import all the dependencies of the project\n",
    "2. Read dataset and observe features of the dataset carefully.\n",
    "3. The dataset has over eighty independent variables of dataype float, integer or object. My approach to handle so many features in a model is to plot a correlation matrix for variables and segregate the numerical variables with a stronger positive or negation correlation with the target variable. To visualise the magnitude of correlation a heatmap can also be plot.\n",
    "4. The next step is feature engineering. This include removing null values and outliers from the dataset. The null values or NA values in dataset are observed carefully. Later, a normality curve is plot to observe the skewed behaviour of feature to choose right quantity for adjusting empty cells in dataset. Also, some of the variables have almost more than seventy percent instances as null values. Those features are dropped from the dataframe.\n",
    "5. Similary, The object datatype variables are append through the value count. That is the category with highest mode is used to substitue null values.\n",
    "6. Next step involve combining the two dataframes that is one that contain numerical variables and other that contain categorical variables together. The final dataframe is further proccessed by creating dummy variables to give as input train dataset.\n",
    "7. Now, the dataset is split using the train_test_split method of scikit learn.\n",
    "8. Train dataset is fed into the model for training by importing the Linear Regression model of scikit learn.\n",
    "9. The model is trained successfully!\n",
    "10. The sale price is predicted and displayed against true price for comparision. The predicted price values are very close to the actual values.\n",
    "11. NEXT, step involve model evaluation. In machine learning trained models are evaluated through cost functions. The most popular cost functions used tor evaluating linear regression based machine learning models is to use RMSE, MSE or MAE methods. Smaller the magnitude of cost function lesser is the residual of model or better is the model.\n",
    "12. Also, in machine learning a weight is associated to each feature. That very coefficient magnitude is calculated either using gradient descent or normal equation method. The magnitude of the coefficients for all the features is calculated.\n",
    "13. Finally, the evaluated model is stored in pickle."
   ]
  },
  {
   "cell_type": "code",
   "execution_count": 1,
   "id": "2446fb60",
   "metadata": {},
   "outputs": [],
   "source": [
    "#Importing the dependencies\n",
    "import pandas as pd\n",
    "import numpy as np\n",
    "import matplotlib.pyplot as plt\n",
    "import seaborn as sns"
   ]
  },
  {
   "cell_type": "code",
   "execution_count": 2,
   "id": "ad3d3deb",
   "metadata": {},
   "outputs": [],
   "source": [
    "df=pd.read_csv(\"TRAINDATA.csv\")"
   ]
  },
  {
   "cell_type": "code",
   "execution_count": 3,
   "id": "ebe5f873",
   "metadata": {},
   "outputs": [
    {
     "data": {
      "text/html": [
       "<div>\n",
       "<style scoped>\n",
       "    .dataframe tbody tr th:only-of-type {\n",
       "        vertical-align: middle;\n",
       "    }\n",
       "\n",
       "    .dataframe tbody tr th {\n",
       "        vertical-align: top;\n",
       "    }\n",
       "\n",
       "    .dataframe thead th {\n",
       "        text-align: right;\n",
       "    }\n",
       "</style>\n",
       "<table border=\"1\" class=\"dataframe\">\n",
       "  <thead>\n",
       "    <tr style=\"text-align: right;\">\n",
       "      <th></th>\n",
       "      <th>Id</th>\n",
       "      <th>MSSubClass</th>\n",
       "      <th>MSZoning</th>\n",
       "      <th>LotFrontage</th>\n",
       "      <th>LotArea</th>\n",
       "      <th>Street</th>\n",
       "      <th>Alley</th>\n",
       "      <th>LotShape</th>\n",
       "      <th>LandContour</th>\n",
       "      <th>Utilities</th>\n",
       "      <th>...</th>\n",
       "      <th>PoolArea</th>\n",
       "      <th>PoolQC</th>\n",
       "      <th>Fence</th>\n",
       "      <th>MiscFeature</th>\n",
       "      <th>MiscVal</th>\n",
       "      <th>MoSold</th>\n",
       "      <th>YrSold</th>\n",
       "      <th>SaleType</th>\n",
       "      <th>SaleCondition</th>\n",
       "      <th>SalePrice</th>\n",
       "    </tr>\n",
       "  </thead>\n",
       "  <tbody>\n",
       "    <tr>\n",
       "      <th>0</th>\n",
       "      <td>1</td>\n",
       "      <td>60</td>\n",
       "      <td>RL</td>\n",
       "      <td>65.0</td>\n",
       "      <td>8450</td>\n",
       "      <td>Pave</td>\n",
       "      <td>NaN</td>\n",
       "      <td>Reg</td>\n",
       "      <td>Lvl</td>\n",
       "      <td>AllPub</td>\n",
       "      <td>...</td>\n",
       "      <td>0</td>\n",
       "      <td>NaN</td>\n",
       "      <td>NaN</td>\n",
       "      <td>NaN</td>\n",
       "      <td>0</td>\n",
       "      <td>2</td>\n",
       "      <td>2008</td>\n",
       "      <td>WD</td>\n",
       "      <td>Normal</td>\n",
       "      <td>208500</td>\n",
       "    </tr>\n",
       "    <tr>\n",
       "      <th>1</th>\n",
       "      <td>2</td>\n",
       "      <td>20</td>\n",
       "      <td>RL</td>\n",
       "      <td>80.0</td>\n",
       "      <td>9600</td>\n",
       "      <td>Pave</td>\n",
       "      <td>NaN</td>\n",
       "      <td>Reg</td>\n",
       "      <td>Lvl</td>\n",
       "      <td>AllPub</td>\n",
       "      <td>...</td>\n",
       "      <td>0</td>\n",
       "      <td>NaN</td>\n",
       "      <td>NaN</td>\n",
       "      <td>NaN</td>\n",
       "      <td>0</td>\n",
       "      <td>5</td>\n",
       "      <td>2007</td>\n",
       "      <td>WD</td>\n",
       "      <td>Normal</td>\n",
       "      <td>181500</td>\n",
       "    </tr>\n",
       "    <tr>\n",
       "      <th>2</th>\n",
       "      <td>3</td>\n",
       "      <td>60</td>\n",
       "      <td>RL</td>\n",
       "      <td>68.0</td>\n",
       "      <td>11250</td>\n",
       "      <td>Pave</td>\n",
       "      <td>NaN</td>\n",
       "      <td>IR1</td>\n",
       "      <td>Lvl</td>\n",
       "      <td>AllPub</td>\n",
       "      <td>...</td>\n",
       "      <td>0</td>\n",
       "      <td>NaN</td>\n",
       "      <td>NaN</td>\n",
       "      <td>NaN</td>\n",
       "      <td>0</td>\n",
       "      <td>9</td>\n",
       "      <td>2008</td>\n",
       "      <td>WD</td>\n",
       "      <td>Normal</td>\n",
       "      <td>223500</td>\n",
       "    </tr>\n",
       "    <tr>\n",
       "      <th>3</th>\n",
       "      <td>4</td>\n",
       "      <td>70</td>\n",
       "      <td>RL</td>\n",
       "      <td>60.0</td>\n",
       "      <td>9550</td>\n",
       "      <td>Pave</td>\n",
       "      <td>NaN</td>\n",
       "      <td>IR1</td>\n",
       "      <td>Lvl</td>\n",
       "      <td>AllPub</td>\n",
       "      <td>...</td>\n",
       "      <td>0</td>\n",
       "      <td>NaN</td>\n",
       "      <td>NaN</td>\n",
       "      <td>NaN</td>\n",
       "      <td>0</td>\n",
       "      <td>2</td>\n",
       "      <td>2006</td>\n",
       "      <td>WD</td>\n",
       "      <td>Abnorml</td>\n",
       "      <td>140000</td>\n",
       "    </tr>\n",
       "    <tr>\n",
       "      <th>4</th>\n",
       "      <td>5</td>\n",
       "      <td>60</td>\n",
       "      <td>RL</td>\n",
       "      <td>84.0</td>\n",
       "      <td>14260</td>\n",
       "      <td>Pave</td>\n",
       "      <td>NaN</td>\n",
       "      <td>IR1</td>\n",
       "      <td>Lvl</td>\n",
       "      <td>AllPub</td>\n",
       "      <td>...</td>\n",
       "      <td>0</td>\n",
       "      <td>NaN</td>\n",
       "      <td>NaN</td>\n",
       "      <td>NaN</td>\n",
       "      <td>0</td>\n",
       "      <td>12</td>\n",
       "      <td>2008</td>\n",
       "      <td>WD</td>\n",
       "      <td>Normal</td>\n",
       "      <td>250000</td>\n",
       "    </tr>\n",
       "  </tbody>\n",
       "</table>\n",
       "<p>5 rows × 81 columns</p>\n",
       "</div>"
      ],
      "text/plain": [
       "   Id  MSSubClass MSZoning  LotFrontage  LotArea Street Alley LotShape  \\\n",
       "0   1          60       RL         65.0     8450   Pave   NaN      Reg   \n",
       "1   2          20       RL         80.0     9600   Pave   NaN      Reg   \n",
       "2   3          60       RL         68.0    11250   Pave   NaN      IR1   \n",
       "3   4          70       RL         60.0     9550   Pave   NaN      IR1   \n",
       "4   5          60       RL         84.0    14260   Pave   NaN      IR1   \n",
       "\n",
       "  LandContour Utilities  ... PoolArea PoolQC Fence MiscFeature MiscVal MoSold  \\\n",
       "0         Lvl    AllPub  ...        0    NaN   NaN         NaN       0      2   \n",
       "1         Lvl    AllPub  ...        0    NaN   NaN         NaN       0      5   \n",
       "2         Lvl    AllPub  ...        0    NaN   NaN         NaN       0      9   \n",
       "3         Lvl    AllPub  ...        0    NaN   NaN         NaN       0      2   \n",
       "4         Lvl    AllPub  ...        0    NaN   NaN         NaN       0     12   \n",
       "\n",
       "  YrSold  SaleType  SaleCondition  SalePrice  \n",
       "0   2008        WD         Normal     208500  \n",
       "1   2007        WD         Normal     181500  \n",
       "2   2008        WD         Normal     223500  \n",
       "3   2006        WD        Abnorml     140000  \n",
       "4   2008        WD         Normal     250000  \n",
       "\n",
       "[5 rows x 81 columns]"
      ]
     },
     "execution_count": 3,
     "metadata": {},
     "output_type": "execute_result"
    }
   ],
   "source": [
    "df.head()"
   ]
  },
  {
   "cell_type": "code",
   "execution_count": 4,
   "id": "ff7af40e",
   "metadata": {},
   "outputs": [
    {
     "name": "stdout",
     "output_type": "stream",
     "text": [
      "The dataset for taining a linear regression model for Dream House Price Prediction contains 1460 rows and 81 columns.\n"
     ]
    }
   ],
   "source": [
    "df.shape\n",
    "print(\"The dataset for taining a linear regression model for Dream House Price Prediction contains\", df.shape[0] ,\"rows and\", df.shape[1] ,\"columns.\")"
   ]
  },
  {
   "cell_type": "code",
   "execution_count": 5,
   "id": "24733194",
   "metadata": {},
   "outputs": [
    {
     "name": "stdout",
     "output_type": "stream",
     "text": [
      "<class 'pandas.core.frame.DataFrame'>\n",
      "RangeIndex: 1460 entries, 0 to 1459\n",
      "Data columns (total 81 columns):\n",
      " #   Column         Non-Null Count  Dtype  \n",
      "---  ------         --------------  -----  \n",
      " 0   Id             1460 non-null   int64  \n",
      " 1   MSSubClass     1460 non-null   int64  \n",
      " 2   MSZoning       1460 non-null   object \n",
      " 3   LotFrontage    1201 non-null   float64\n",
      " 4   LotArea        1460 non-null   int64  \n",
      " 5   Street         1460 non-null   object \n",
      " 6   Alley          91 non-null     object \n",
      " 7   LotShape       1460 non-null   object \n",
      " 8   LandContour    1460 non-null   object \n",
      " 9   Utilities      1460 non-null   object \n",
      " 10  LotConfig      1460 non-null   object \n",
      " 11  LandSlope      1460 non-null   object \n",
      " 12  Neighborhood   1460 non-null   object \n",
      " 13  Condition1     1460 non-null   object \n",
      " 14  Condition2     1460 non-null   object \n",
      " 15  BldgType       1460 non-null   object \n",
      " 16  HouseStyle     1460 non-null   object \n",
      " 17  OverallQual    1460 non-null   int64  \n",
      " 18  OverallCond    1460 non-null   int64  \n",
      " 19  YearBuilt      1460 non-null   int64  \n",
      " 20  YearRemodAdd   1460 non-null   int64  \n",
      " 21  RoofStyle      1460 non-null   object \n",
      " 22  RoofMatl       1460 non-null   object \n",
      " 23  Exterior1st    1460 non-null   object \n",
      " 24  Exterior2nd    1460 non-null   object \n",
      " 25  MasVnrType     1452 non-null   object \n",
      " 26  MasVnrArea     1452 non-null   float64\n",
      " 27  ExterQual      1460 non-null   object \n",
      " 28  ExterCond      1460 non-null   object \n",
      " 29  Foundation     1460 non-null   object \n",
      " 30  BsmtQual       1423 non-null   object \n",
      " 31  BsmtCond       1423 non-null   object \n",
      " 32  BsmtExposure   1422 non-null   object \n",
      " 33  BsmtFinType1   1423 non-null   object \n",
      " 34  BsmtFinSF1     1460 non-null   int64  \n",
      " 35  BsmtFinType2   1422 non-null   object \n",
      " 36  BsmtFinSF2     1460 non-null   int64  \n",
      " 37  BsmtUnfSF      1460 non-null   int64  \n",
      " 38  TotalBsmtSF    1460 non-null   int64  \n",
      " 39  Heating        1460 non-null   object \n",
      " 40  HeatingQC      1460 non-null   object \n",
      " 41  CentralAir     1460 non-null   object \n",
      " 42  Electrical     1459 non-null   object \n",
      " 43  1stFlrSF       1460 non-null   int64  \n",
      " 44  2ndFlrSF       1460 non-null   int64  \n",
      " 45  LowQualFinSF   1460 non-null   int64  \n",
      " 46  GrLivArea      1460 non-null   int64  \n",
      " 47  BsmtFullBath   1460 non-null   int64  \n",
      " 48  BsmtHalfBath   1460 non-null   int64  \n",
      " 49  FullBath       1460 non-null   int64  \n",
      " 50  HalfBath       1460 non-null   int64  \n",
      " 51  BedroomAbvGr   1460 non-null   int64  \n",
      " 52  KitchenAbvGr   1460 non-null   int64  \n",
      " 53  KitchenQual    1460 non-null   object \n",
      " 54  TotRmsAbvGrd   1460 non-null   int64  \n",
      " 55  Functional     1460 non-null   object \n",
      " 56  Fireplaces     1460 non-null   int64  \n",
      " 57  FireplaceQu    770 non-null    object \n",
      " 58  GarageType     1379 non-null   object \n",
      " 59  GarageYrBlt    1379 non-null   float64\n",
      " 60  GarageFinish   1379 non-null   object \n",
      " 61  GarageCars     1460 non-null   int64  \n",
      " 62  GarageArea     1460 non-null   int64  \n",
      " 63  GarageQual     1379 non-null   object \n",
      " 64  GarageCond     1379 non-null   object \n",
      " 65  PavedDrive     1460 non-null   object \n",
      " 66  WoodDeckSF     1460 non-null   int64  \n",
      " 67  OpenPorchSF    1460 non-null   int64  \n",
      " 68  EnclosedPorch  1460 non-null   int64  \n",
      " 69  3SsnPorch      1460 non-null   int64  \n",
      " 70  ScreenPorch    1460 non-null   int64  \n",
      " 71  PoolArea       1460 non-null   int64  \n",
      " 72  PoolQC         7 non-null      object \n",
      " 73  Fence          281 non-null    object \n",
      " 74  MiscFeature    54 non-null     object \n",
      " 75  MiscVal        1460 non-null   int64  \n",
      " 76  MoSold         1460 non-null   int64  \n",
      " 77  YrSold         1460 non-null   int64  \n",
      " 78  SaleType       1460 non-null   object \n",
      " 79  SaleCondition  1460 non-null   object \n",
      " 80  SalePrice      1460 non-null   int64  \n",
      "dtypes: float64(3), int64(35), object(43)\n",
      "memory usage: 924.0+ KB\n"
     ]
    }
   ],
   "source": [
    "df.info()"
   ]
  },
  {
   "cell_type": "code",
   "execution_count": 6,
   "id": "7d7d99c0",
   "metadata": {},
   "outputs": [
    {
     "data": {
      "text/html": [
       "<div>\n",
       "<style scoped>\n",
       "    .dataframe tbody tr th:only-of-type {\n",
       "        vertical-align: middle;\n",
       "    }\n",
       "\n",
       "    .dataframe tbody tr th {\n",
       "        vertical-align: top;\n",
       "    }\n",
       "\n",
       "    .dataframe thead th {\n",
       "        text-align: right;\n",
       "    }\n",
       "</style>\n",
       "<table border=\"1\" class=\"dataframe\">\n",
       "  <thead>\n",
       "    <tr style=\"text-align: right;\">\n",
       "      <th></th>\n",
       "      <th>Id</th>\n",
       "      <th>MSSubClass</th>\n",
       "      <th>LotFrontage</th>\n",
       "      <th>LotArea</th>\n",
       "      <th>OverallQual</th>\n",
       "      <th>OverallCond</th>\n",
       "      <th>YearBuilt</th>\n",
       "      <th>YearRemodAdd</th>\n",
       "      <th>MasVnrArea</th>\n",
       "      <th>BsmtFinSF1</th>\n",
       "      <th>...</th>\n",
       "      <th>WoodDeckSF</th>\n",
       "      <th>OpenPorchSF</th>\n",
       "      <th>EnclosedPorch</th>\n",
       "      <th>3SsnPorch</th>\n",
       "      <th>ScreenPorch</th>\n",
       "      <th>PoolArea</th>\n",
       "      <th>MiscVal</th>\n",
       "      <th>MoSold</th>\n",
       "      <th>YrSold</th>\n",
       "      <th>SalePrice</th>\n",
       "    </tr>\n",
       "  </thead>\n",
       "  <tbody>\n",
       "    <tr>\n",
       "      <th>count</th>\n",
       "      <td>1460.000000</td>\n",
       "      <td>1460.000000</td>\n",
       "      <td>1201.000000</td>\n",
       "      <td>1460.000000</td>\n",
       "      <td>1460.000000</td>\n",
       "      <td>1460.000000</td>\n",
       "      <td>1460.000000</td>\n",
       "      <td>1460.000000</td>\n",
       "      <td>1452.000000</td>\n",
       "      <td>1460.000000</td>\n",
       "      <td>...</td>\n",
       "      <td>1460.000000</td>\n",
       "      <td>1460.000000</td>\n",
       "      <td>1460.000000</td>\n",
       "      <td>1460.000000</td>\n",
       "      <td>1460.000000</td>\n",
       "      <td>1460.000000</td>\n",
       "      <td>1460.000000</td>\n",
       "      <td>1460.000000</td>\n",
       "      <td>1460.000000</td>\n",
       "      <td>1460.000000</td>\n",
       "    </tr>\n",
       "    <tr>\n",
       "      <th>mean</th>\n",
       "      <td>730.500000</td>\n",
       "      <td>56.897260</td>\n",
       "      <td>70.049958</td>\n",
       "      <td>10516.828082</td>\n",
       "      <td>6.099315</td>\n",
       "      <td>5.575342</td>\n",
       "      <td>1971.267808</td>\n",
       "      <td>1984.865753</td>\n",
       "      <td>103.685262</td>\n",
       "      <td>443.639726</td>\n",
       "      <td>...</td>\n",
       "      <td>94.244521</td>\n",
       "      <td>46.660274</td>\n",
       "      <td>21.954110</td>\n",
       "      <td>3.409589</td>\n",
       "      <td>15.060959</td>\n",
       "      <td>2.758904</td>\n",
       "      <td>43.489041</td>\n",
       "      <td>6.321918</td>\n",
       "      <td>2007.815753</td>\n",
       "      <td>180921.195890</td>\n",
       "    </tr>\n",
       "    <tr>\n",
       "      <th>std</th>\n",
       "      <td>421.610009</td>\n",
       "      <td>42.300571</td>\n",
       "      <td>24.284752</td>\n",
       "      <td>9981.264932</td>\n",
       "      <td>1.382997</td>\n",
       "      <td>1.112799</td>\n",
       "      <td>30.202904</td>\n",
       "      <td>20.645407</td>\n",
       "      <td>181.066207</td>\n",
       "      <td>456.098091</td>\n",
       "      <td>...</td>\n",
       "      <td>125.338794</td>\n",
       "      <td>66.256028</td>\n",
       "      <td>61.119149</td>\n",
       "      <td>29.317331</td>\n",
       "      <td>55.757415</td>\n",
       "      <td>40.177307</td>\n",
       "      <td>496.123024</td>\n",
       "      <td>2.703626</td>\n",
       "      <td>1.328095</td>\n",
       "      <td>79442.502883</td>\n",
       "    </tr>\n",
       "    <tr>\n",
       "      <th>min</th>\n",
       "      <td>1.000000</td>\n",
       "      <td>20.000000</td>\n",
       "      <td>21.000000</td>\n",
       "      <td>1300.000000</td>\n",
       "      <td>1.000000</td>\n",
       "      <td>1.000000</td>\n",
       "      <td>1872.000000</td>\n",
       "      <td>1950.000000</td>\n",
       "      <td>0.000000</td>\n",
       "      <td>0.000000</td>\n",
       "      <td>...</td>\n",
       "      <td>0.000000</td>\n",
       "      <td>0.000000</td>\n",
       "      <td>0.000000</td>\n",
       "      <td>0.000000</td>\n",
       "      <td>0.000000</td>\n",
       "      <td>0.000000</td>\n",
       "      <td>0.000000</td>\n",
       "      <td>1.000000</td>\n",
       "      <td>2006.000000</td>\n",
       "      <td>34900.000000</td>\n",
       "    </tr>\n",
       "    <tr>\n",
       "      <th>25%</th>\n",
       "      <td>365.750000</td>\n",
       "      <td>20.000000</td>\n",
       "      <td>59.000000</td>\n",
       "      <td>7553.500000</td>\n",
       "      <td>5.000000</td>\n",
       "      <td>5.000000</td>\n",
       "      <td>1954.000000</td>\n",
       "      <td>1967.000000</td>\n",
       "      <td>0.000000</td>\n",
       "      <td>0.000000</td>\n",
       "      <td>...</td>\n",
       "      <td>0.000000</td>\n",
       "      <td>0.000000</td>\n",
       "      <td>0.000000</td>\n",
       "      <td>0.000000</td>\n",
       "      <td>0.000000</td>\n",
       "      <td>0.000000</td>\n",
       "      <td>0.000000</td>\n",
       "      <td>5.000000</td>\n",
       "      <td>2007.000000</td>\n",
       "      <td>129975.000000</td>\n",
       "    </tr>\n",
       "    <tr>\n",
       "      <th>50%</th>\n",
       "      <td>730.500000</td>\n",
       "      <td>50.000000</td>\n",
       "      <td>69.000000</td>\n",
       "      <td>9478.500000</td>\n",
       "      <td>6.000000</td>\n",
       "      <td>5.000000</td>\n",
       "      <td>1973.000000</td>\n",
       "      <td>1994.000000</td>\n",
       "      <td>0.000000</td>\n",
       "      <td>383.500000</td>\n",
       "      <td>...</td>\n",
       "      <td>0.000000</td>\n",
       "      <td>25.000000</td>\n",
       "      <td>0.000000</td>\n",
       "      <td>0.000000</td>\n",
       "      <td>0.000000</td>\n",
       "      <td>0.000000</td>\n",
       "      <td>0.000000</td>\n",
       "      <td>6.000000</td>\n",
       "      <td>2008.000000</td>\n",
       "      <td>163000.000000</td>\n",
       "    </tr>\n",
       "    <tr>\n",
       "      <th>75%</th>\n",
       "      <td>1095.250000</td>\n",
       "      <td>70.000000</td>\n",
       "      <td>80.000000</td>\n",
       "      <td>11601.500000</td>\n",
       "      <td>7.000000</td>\n",
       "      <td>6.000000</td>\n",
       "      <td>2000.000000</td>\n",
       "      <td>2004.000000</td>\n",
       "      <td>166.000000</td>\n",
       "      <td>712.250000</td>\n",
       "      <td>...</td>\n",
       "      <td>168.000000</td>\n",
       "      <td>68.000000</td>\n",
       "      <td>0.000000</td>\n",
       "      <td>0.000000</td>\n",
       "      <td>0.000000</td>\n",
       "      <td>0.000000</td>\n",
       "      <td>0.000000</td>\n",
       "      <td>8.000000</td>\n",
       "      <td>2009.000000</td>\n",
       "      <td>214000.000000</td>\n",
       "    </tr>\n",
       "    <tr>\n",
       "      <th>max</th>\n",
       "      <td>1460.000000</td>\n",
       "      <td>190.000000</td>\n",
       "      <td>313.000000</td>\n",
       "      <td>215245.000000</td>\n",
       "      <td>10.000000</td>\n",
       "      <td>9.000000</td>\n",
       "      <td>2010.000000</td>\n",
       "      <td>2010.000000</td>\n",
       "      <td>1600.000000</td>\n",
       "      <td>5644.000000</td>\n",
       "      <td>...</td>\n",
       "      <td>857.000000</td>\n",
       "      <td>547.000000</td>\n",
       "      <td>552.000000</td>\n",
       "      <td>508.000000</td>\n",
       "      <td>480.000000</td>\n",
       "      <td>738.000000</td>\n",
       "      <td>15500.000000</td>\n",
       "      <td>12.000000</td>\n",
       "      <td>2010.000000</td>\n",
       "      <td>755000.000000</td>\n",
       "    </tr>\n",
       "  </tbody>\n",
       "</table>\n",
       "<p>8 rows × 38 columns</p>\n",
       "</div>"
      ],
      "text/plain": [
       "                Id   MSSubClass  LotFrontage        LotArea  OverallQual  \\\n",
       "count  1460.000000  1460.000000  1201.000000    1460.000000  1460.000000   \n",
       "mean    730.500000    56.897260    70.049958   10516.828082     6.099315   \n",
       "std     421.610009    42.300571    24.284752    9981.264932     1.382997   \n",
       "min       1.000000    20.000000    21.000000    1300.000000     1.000000   \n",
       "25%     365.750000    20.000000    59.000000    7553.500000     5.000000   \n",
       "50%     730.500000    50.000000    69.000000    9478.500000     6.000000   \n",
       "75%    1095.250000    70.000000    80.000000   11601.500000     7.000000   \n",
       "max    1460.000000   190.000000   313.000000  215245.000000    10.000000   \n",
       "\n",
       "       OverallCond    YearBuilt  YearRemodAdd   MasVnrArea   BsmtFinSF1  ...  \\\n",
       "count  1460.000000  1460.000000   1460.000000  1452.000000  1460.000000  ...   \n",
       "mean      5.575342  1971.267808   1984.865753   103.685262   443.639726  ...   \n",
       "std       1.112799    30.202904     20.645407   181.066207   456.098091  ...   \n",
       "min       1.000000  1872.000000   1950.000000     0.000000     0.000000  ...   \n",
       "25%       5.000000  1954.000000   1967.000000     0.000000     0.000000  ...   \n",
       "50%       5.000000  1973.000000   1994.000000     0.000000   383.500000  ...   \n",
       "75%       6.000000  2000.000000   2004.000000   166.000000   712.250000  ...   \n",
       "max       9.000000  2010.000000   2010.000000  1600.000000  5644.000000  ...   \n",
       "\n",
       "        WoodDeckSF  OpenPorchSF  EnclosedPorch    3SsnPorch  ScreenPorch  \\\n",
       "count  1460.000000  1460.000000    1460.000000  1460.000000  1460.000000   \n",
       "mean     94.244521    46.660274      21.954110     3.409589    15.060959   \n",
       "std     125.338794    66.256028      61.119149    29.317331    55.757415   \n",
       "min       0.000000     0.000000       0.000000     0.000000     0.000000   \n",
       "25%       0.000000     0.000000       0.000000     0.000000     0.000000   \n",
       "50%       0.000000    25.000000       0.000000     0.000000     0.000000   \n",
       "75%     168.000000    68.000000       0.000000     0.000000     0.000000   \n",
       "max     857.000000   547.000000     552.000000   508.000000   480.000000   \n",
       "\n",
       "          PoolArea       MiscVal       MoSold       YrSold      SalePrice  \n",
       "count  1460.000000   1460.000000  1460.000000  1460.000000    1460.000000  \n",
       "mean      2.758904     43.489041     6.321918  2007.815753  180921.195890  \n",
       "std      40.177307    496.123024     2.703626     1.328095   79442.502883  \n",
       "min       0.000000      0.000000     1.000000  2006.000000   34900.000000  \n",
       "25%       0.000000      0.000000     5.000000  2007.000000  129975.000000  \n",
       "50%       0.000000      0.000000     6.000000  2008.000000  163000.000000  \n",
       "75%       0.000000      0.000000     8.000000  2009.000000  214000.000000  \n",
       "max     738.000000  15500.000000    12.000000  2010.000000  755000.000000  \n",
       "\n",
       "[8 rows x 38 columns]"
      ]
     },
     "execution_count": 6,
     "metadata": {},
     "output_type": "execute_result"
    }
   ],
   "source": [
    "df.describe()"
   ]
  },
  {
   "cell_type": "markdown",
   "id": "b93e9f03",
   "metadata": {},
   "source": [
    "## Dealing With Numerical Data Types"
   ]
  },
  {
   "cell_type": "code",
   "execution_count": 7,
   "id": "51e58348",
   "metadata": {},
   "outputs": [],
   "source": [
    "a=df[['SalePrice','MSSubClass','LotArea','OverallQual','OverallCond','YearBuilt','YearRemodAdd','MasVnrArea','BsmtFinSF1','BsmtFinSF2','BsmtUnfSF','TotalBsmtSF','1stFlrSF','2ndFlrSF','LowQualFinSF','GrLivArea','BsmtFullBath','BsmtHalfBath','FullBath','HalfBath','BedroomAbvGr','KitchenAbvGr','TotRmsAbvGrd','Fireplaces','GarageYrBlt','GarageCars','GarageArea','WoodDeckSF','OpenPorchSF','EnclosedPorch','3SsnPorch','ScreenPorch','PoolArea','MiscVal','MoSold','YrSold','SaleCondition']]"
   ]
  },
  {
   "cell_type": "code",
   "execution_count": 8,
   "id": "c066b55e",
   "metadata": {},
   "outputs": [
    {
     "data": {
      "text/plain": [
       "<AxesSubplot:>"
      ]
     },
     "execution_count": 8,
     "metadata": {},
     "output_type": "execute_result"
    },
    {
     "data": {
      "image/png": "[encoded data removed]",
      "text/plain": [
       "<Figure size 432x288 with 2 Axes>"
      ]
     },
     "metadata": {
      "needs_background": "light"
     },
     "output_type": "display_data"
    }
   ],
   "source": [
    "corr=a.corr()\n",
    "sns.heatmap(corr)"
   ]
  },
  {
   "cell_type": "code",
   "execution_count": 9,
   "id": "2824542c",
   "metadata": {},
   "outputs": [
    {
     "data": {
      "text/html": [
       "<div>\n",
       "<style scoped>\n",
       "    .dataframe tbody tr th:only-of-type {\n",
       "        vertical-align: middle;\n",
       "    }\n",
       "\n",
       "    .dataframe tbody tr th {\n",
       "        vertical-align: top;\n",
       "    }\n",
       "\n",
       "    .dataframe thead th {\n",
       "        text-align: right;\n",
       "    }\n",
       "</style>\n",
       "<table border=\"1\" class=\"dataframe\">\n",
       "  <thead>\n",
       "    <tr style=\"text-align: right;\">\n",
       "      <th></th>\n",
       "      <th>SalePrice</th>\n",
       "      <th>MSSubClass</th>\n",
       "      <th>LotArea</th>\n",
       "      <th>OverallQual</th>\n",
       "      <th>OverallCond</th>\n",
       "      <th>YearBuilt</th>\n",
       "      <th>YearRemodAdd</th>\n",
       "      <th>MasVnrArea</th>\n",
       "      <th>BsmtFinSF1</th>\n",
       "      <th>BsmtFinSF2</th>\n",
       "      <th>...</th>\n",
       "      <th>GarageArea</th>\n",
       "      <th>WoodDeckSF</th>\n",
       "      <th>OpenPorchSF</th>\n",
       "      <th>EnclosedPorch</th>\n",
       "      <th>3SsnPorch</th>\n",
       "      <th>ScreenPorch</th>\n",
       "      <th>PoolArea</th>\n",
       "      <th>MiscVal</th>\n",
       "      <th>MoSold</th>\n",
       "      <th>YrSold</th>\n",
       "    </tr>\n",
       "  </thead>\n",
       "  <tbody>\n",
       "    <tr>\n",
       "      <th>SalePrice</th>\n",
       "      <td>1.000000</td>\n",
       "      <td>-0.084284</td>\n",
       "      <td>0.263843</td>\n",
       "      <td>0.790982</td>\n",
       "      <td>-0.077856</td>\n",
       "      <td>0.522897</td>\n",
       "      <td>0.507101</td>\n",
       "      <td>0.477493</td>\n",
       "      <td>0.386420</td>\n",
       "      <td>-0.011378</td>\n",
       "      <td>...</td>\n",
       "      <td>0.623431</td>\n",
       "      <td>0.324413</td>\n",
       "      <td>0.315856</td>\n",
       "      <td>-0.128578</td>\n",
       "      <td>0.044584</td>\n",
       "      <td>0.111447</td>\n",
       "      <td>0.092404</td>\n",
       "      <td>-0.021190</td>\n",
       "      <td>0.046432</td>\n",
       "      <td>-0.028923</td>\n",
       "    </tr>\n",
       "    <tr>\n",
       "      <th>MSSubClass</th>\n",
       "      <td>-0.084284</td>\n",
       "      <td>1.000000</td>\n",
       "      <td>-0.139781</td>\n",
       "      <td>0.032628</td>\n",
       "      <td>-0.059316</td>\n",
       "      <td>0.027850</td>\n",
       "      <td>0.040581</td>\n",
       "      <td>0.022936</td>\n",
       "      <td>-0.069836</td>\n",
       "      <td>-0.065649</td>\n",
       "      <td>...</td>\n",
       "      <td>-0.098672</td>\n",
       "      <td>-0.012579</td>\n",
       "      <td>-0.006100</td>\n",
       "      <td>-0.012037</td>\n",
       "      <td>-0.043825</td>\n",
       "      <td>-0.026030</td>\n",
       "      <td>0.008283</td>\n",
       "      <td>-0.007683</td>\n",
       "      <td>-0.013585</td>\n",
       "      <td>-0.021407</td>\n",
       "    </tr>\n",
       "    <tr>\n",
       "      <th>LotArea</th>\n",
       "      <td>0.263843</td>\n",
       "      <td>-0.139781</td>\n",
       "      <td>1.000000</td>\n",
       "      <td>0.105806</td>\n",
       "      <td>-0.005636</td>\n",
       "      <td>0.014228</td>\n",
       "      <td>0.013788</td>\n",
       "      <td>0.104160</td>\n",
       "      <td>0.214103</td>\n",
       "      <td>0.111170</td>\n",
       "      <td>...</td>\n",
       "      <td>0.180403</td>\n",
       "      <td>0.171698</td>\n",
       "      <td>0.084774</td>\n",
       "      <td>-0.018340</td>\n",
       "      <td>0.020423</td>\n",
       "      <td>0.043160</td>\n",
       "      <td>0.077672</td>\n",
       "      <td>0.038068</td>\n",
       "      <td>0.001205</td>\n",
       "      <td>-0.014261</td>\n",
       "    </tr>\n",
       "    <tr>\n",
       "      <th>OverallQual</th>\n",
       "      <td>0.790982</td>\n",
       "      <td>0.032628</td>\n",
       "      <td>0.105806</td>\n",
       "      <td>1.000000</td>\n",
       "      <td>-0.091932</td>\n",
       "      <td>0.572323</td>\n",
       "      <td>0.550684</td>\n",
       "      <td>0.411876</td>\n",
       "      <td>0.239666</td>\n",
       "      <td>-0.059119</td>\n",
       "      <td>...</td>\n",
       "      <td>0.562022</td>\n",
       "      <td>0.238923</td>\n",
       "      <td>0.308819</td>\n",
       "      <td>-0.113937</td>\n",
       "      <td>0.030371</td>\n",
       "      <td>0.064886</td>\n",
       "      <td>0.065166</td>\n",
       "      <td>-0.031406</td>\n",
       "      <td>0.070815</td>\n",
       "      <td>-0.027347</td>\n",
       "    </tr>\n",
       "    <tr>\n",
       "      <th>OverallCond</th>\n",
       "      <td>-0.077856</td>\n",
       "      <td>-0.059316</td>\n",
       "      <td>-0.005636</td>\n",
       "      <td>-0.091932</td>\n",
       "      <td>1.000000</td>\n",
       "      <td>-0.375983</td>\n",
       "      <td>0.073741</td>\n",
       "      <td>-0.128101</td>\n",
       "      <td>-0.046231</td>\n",
       "      <td>0.040229</td>\n",
       "      <td>...</td>\n",
       "      <td>-0.151521</td>\n",
       "      <td>-0.003334</td>\n",
       "      <td>-0.032589</td>\n",
       "      <td>0.070356</td>\n",
       "      <td>0.025504</td>\n",
       "      <td>0.054811</td>\n",
       "      <td>-0.001985</td>\n",
       "      <td>0.068777</td>\n",
       "      <td>-0.003511</td>\n",
       "      <td>0.043950</td>\n",
       "    </tr>\n",
       "    <tr>\n",
       "      <th>YearBuilt</th>\n",
       "      <td>0.522897</td>\n",
       "      <td>0.027850</td>\n",
       "      <td>0.014228</td>\n",
       "      <td>0.572323</td>\n",
       "      <td>-0.375983</td>\n",
       "      <td>1.000000</td>\n",
       "      <td>0.592855</td>\n",
       "      <td>0.315707</td>\n",
       "      <td>0.249503</td>\n",
       "      <td>-0.049107</td>\n",
       "      <td>...</td>\n",
       "      <td>0.478954</td>\n",
       "      <td>0.224880</td>\n",
       "      <td>0.188686</td>\n",
       "      <td>-0.387268</td>\n",
       "      <td>0.031355</td>\n",
       "      <td>-0.050364</td>\n",
       "      <td>0.004950</td>\n",
       "      <td>-0.034383</td>\n",
       "      <td>0.012398</td>\n",
       "      <td>-0.013618</td>\n",
       "    </tr>\n",
       "    <tr>\n",
       "      <th>YearRemodAdd</th>\n",
       "      <td>0.507101</td>\n",
       "      <td>0.040581</td>\n",
       "      <td>0.013788</td>\n",
       "      <td>0.550684</td>\n",
       "      <td>0.073741</td>\n",
       "      <td>0.592855</td>\n",
       "      <td>1.000000</td>\n",
       "      <td>0.179618</td>\n",
       "      <td>0.128451</td>\n",
       "      <td>-0.067759</td>\n",
       "      <td>...</td>\n",
       "      <td>0.371600</td>\n",
       "      <td>0.205726</td>\n",
       "      <td>0.226298</td>\n",
       "      <td>-0.193919</td>\n",
       "      <td>0.045286</td>\n",
       "      <td>-0.038740</td>\n",
       "      <td>0.005829</td>\n",
       "      <td>-0.010286</td>\n",
       "      <td>0.021490</td>\n",
       "      <td>0.035743</td>\n",
       "    </tr>\n",
       "    <tr>\n",
       "      <th>MasVnrArea</th>\n",
       "      <td>0.477493</td>\n",
       "      <td>0.022936</td>\n",
       "      <td>0.104160</td>\n",
       "      <td>0.411876</td>\n",
       "      <td>-0.128101</td>\n",
       "      <td>0.315707</td>\n",
       "      <td>0.179618</td>\n",
       "      <td>1.000000</td>\n",
       "      <td>0.264736</td>\n",
       "      <td>-0.072319</td>\n",
       "      <td>...</td>\n",
       "      <td>0.373066</td>\n",
       "      <td>0.159718</td>\n",
       "      <td>0.125703</td>\n",
       "      <td>-0.110204</td>\n",
       "      <td>0.018796</td>\n",
       "      <td>0.061466</td>\n",
       "      <td>0.011723</td>\n",
       "      <td>-0.029815</td>\n",
       "      <td>-0.005965</td>\n",
       "      <td>-0.008201</td>\n",
       "    </tr>\n",
       "    <tr>\n",
       "      <th>BsmtFinSF1</th>\n",
       "      <td>0.386420</td>\n",
       "      <td>-0.069836</td>\n",
       "      <td>0.214103</td>\n",
       "      <td>0.239666</td>\n",
       "      <td>-0.046231</td>\n",
       "      <td>0.249503</td>\n",
       "      <td>0.128451</td>\n",
       "      <td>0.264736</td>\n",
       "      <td>1.000000</td>\n",
       "      <td>-0.050117</td>\n",
       "      <td>...</td>\n",
       "      <td>0.296970</td>\n",
       "      <td>0.204306</td>\n",
       "      <td>0.111761</td>\n",
       "      <td>-0.102303</td>\n",
       "      <td>0.026451</td>\n",
       "      <td>0.062021</td>\n",
       "      <td>0.140491</td>\n",
       "      <td>0.003571</td>\n",
       "      <td>-0.015727</td>\n",
       "      <td>0.014359</td>\n",
       "    </tr>\n",
       "    <tr>\n",
       "      <th>BsmtFinSF2</th>\n",
       "      <td>-0.011378</td>\n",
       "      <td>-0.065649</td>\n",
       "      <td>0.111170</td>\n",
       "      <td>-0.059119</td>\n",
       "      <td>0.040229</td>\n",
       "      <td>-0.049107</td>\n",
       "      <td>-0.067759</td>\n",
       "      <td>-0.072319</td>\n",
       "      <td>-0.050117</td>\n",
       "      <td>1.000000</td>\n",
       "      <td>...</td>\n",
       "      <td>-0.018227</td>\n",
       "      <td>0.067898</td>\n",
       "      <td>0.003093</td>\n",
       "      <td>0.036543</td>\n",
       "      <td>-0.029993</td>\n",
       "      <td>0.088871</td>\n",
       "      <td>0.041709</td>\n",
       "      <td>0.004940</td>\n",
       "      <td>-0.015211</td>\n",
       "      <td>0.031706</td>\n",
       "    </tr>\n",
       "    <tr>\n",
       "      <th>BsmtUnfSF</th>\n",
       "      <td>0.214479</td>\n",
       "      <td>-0.140759</td>\n",
       "      <td>-0.002618</td>\n",
       "      <td>0.308159</td>\n",
       "      <td>-0.136841</td>\n",
       "      <td>0.149040</td>\n",
       "      <td>0.181133</td>\n",
       "      <td>0.114442</td>\n",
       "      <td>-0.495251</td>\n",
       "      <td>-0.209294</td>\n",
       "      <td>...</td>\n",
       "      <td>0.183303</td>\n",
       "      <td>-0.005316</td>\n",
       "      <td>0.129005</td>\n",
       "      <td>-0.002538</td>\n",
       "      <td>0.020764</td>\n",
       "      <td>-0.012579</td>\n",
       "      <td>-0.035092</td>\n",
       "      <td>-0.023837</td>\n",
       "      <td>0.034888</td>\n",
       "      <td>-0.041258</td>\n",
       "    </tr>\n",
       "    <tr>\n",
       "      <th>TotalBsmtSF</th>\n",
       "      <td>0.613581</td>\n",
       "      <td>-0.238518</td>\n",
       "      <td>0.260833</td>\n",
       "      <td>0.537808</td>\n",
       "      <td>-0.171098</td>\n",
       "      <td>0.391452</td>\n",
       "      <td>0.291066</td>\n",
       "      <td>0.363936</td>\n",
       "      <td>0.522396</td>\n",
       "      <td>0.104810</td>\n",
       "      <td>...</td>\n",
       "      <td>0.486665</td>\n",
       "      <td>0.232019</td>\n",
       "      <td>0.247264</td>\n",
       "      <td>-0.095478</td>\n",
       "      <td>0.037384</td>\n",
       "      <td>0.084489</td>\n",
       "      <td>0.126053</td>\n",
       "      <td>-0.018479</td>\n",
       "      <td>0.013196</td>\n",
       "      <td>-0.014969</td>\n",
       "    </tr>\n",
       "    <tr>\n",
       "      <th>1stFlrSF</th>\n",
       "      <td>0.605852</td>\n",
       "      <td>-0.251758</td>\n",
       "      <td>0.299475</td>\n",
       "      <td>0.476224</td>\n",
       "      <td>-0.144203</td>\n",
       "      <td>0.281986</td>\n",
       "      <td>0.240379</td>\n",
       "      <td>0.344501</td>\n",
       "      <td>0.445863</td>\n",
       "      <td>0.097117</td>\n",
       "      <td>...</td>\n",
       "      <td>0.489782</td>\n",
       "      <td>0.235459</td>\n",
       "      <td>0.211671</td>\n",
       "      <td>-0.065292</td>\n",
       "      <td>0.056104</td>\n",
       "      <td>0.088758</td>\n",
       "      <td>0.131525</td>\n",
       "      <td>-0.021096</td>\n",
       "      <td>0.031372</td>\n",
       "      <td>-0.013604</td>\n",
       "    </tr>\n",
       "    <tr>\n",
       "      <th>2ndFlrSF</th>\n",
       "      <td>0.319334</td>\n",
       "      <td>0.307886</td>\n",
       "      <td>0.050986</td>\n",
       "      <td>0.295493</td>\n",
       "      <td>0.028942</td>\n",
       "      <td>0.010308</td>\n",
       "      <td>0.140024</td>\n",
       "      <td>0.174561</td>\n",
       "      <td>-0.137079</td>\n",
       "      <td>-0.099260</td>\n",
       "      <td>...</td>\n",
       "      <td>0.138347</td>\n",
       "      <td>0.092165</td>\n",
       "      <td>0.208026</td>\n",
       "      <td>0.061989</td>\n",
       "      <td>-0.024358</td>\n",
       "      <td>0.040606</td>\n",
       "      <td>0.081487</td>\n",
       "      <td>0.016197</td>\n",
       "      <td>0.035164</td>\n",
       "      <td>-0.028700</td>\n",
       "    </tr>\n",
       "    <tr>\n",
       "      <th>LowQualFinSF</th>\n",
       "      <td>-0.025606</td>\n",
       "      <td>0.046474</td>\n",
       "      <td>0.004779</td>\n",
       "      <td>-0.030429</td>\n",
       "      <td>0.025494</td>\n",
       "      <td>-0.183784</td>\n",
       "      <td>-0.062419</td>\n",
       "      <td>-0.069071</td>\n",
       "      <td>-0.064503</td>\n",
       "      <td>0.014807</td>\n",
       "      <td>...</td>\n",
       "      <td>-0.067601</td>\n",
       "      <td>-0.025444</td>\n",
       "      <td>0.018251</td>\n",
       "      <td>0.061081</td>\n",
       "      <td>-0.004296</td>\n",
       "      <td>0.026799</td>\n",
       "      <td>0.062157</td>\n",
       "      <td>-0.003793</td>\n",
       "      <td>-0.022174</td>\n",
       "      <td>-0.028921</td>\n",
       "    </tr>\n",
       "    <tr>\n",
       "      <th>GrLivArea</th>\n",
       "      <td>0.708624</td>\n",
       "      <td>0.074853</td>\n",
       "      <td>0.263116</td>\n",
       "      <td>0.593007</td>\n",
       "      <td>-0.079686</td>\n",
       "      <td>0.199010</td>\n",
       "      <td>0.287389</td>\n",
       "      <td>0.390857</td>\n",
       "      <td>0.208171</td>\n",
       "      <td>-0.009640</td>\n",
       "      <td>...</td>\n",
       "      <td>0.468997</td>\n",
       "      <td>0.247433</td>\n",
       "      <td>0.330224</td>\n",
       "      <td>0.009113</td>\n",
       "      <td>0.020643</td>\n",
       "      <td>0.101510</td>\n",
       "      <td>0.170205</td>\n",
       "      <td>-0.002416</td>\n",
       "      <td>0.050240</td>\n",
       "      <td>-0.036526</td>\n",
       "    </tr>\n",
       "    <tr>\n",
       "      <th>BsmtFullBath</th>\n",
       "      <td>0.227122</td>\n",
       "      <td>0.003491</td>\n",
       "      <td>0.158155</td>\n",
       "      <td>0.111098</td>\n",
       "      <td>-0.054942</td>\n",
       "      <td>0.187599</td>\n",
       "      <td>0.119470</td>\n",
       "      <td>0.085310</td>\n",
       "      <td>0.649212</td>\n",
       "      <td>0.158678</td>\n",
       "      <td>...</td>\n",
       "      <td>0.179189</td>\n",
       "      <td>0.175315</td>\n",
       "      <td>0.067341</td>\n",
       "      <td>-0.049911</td>\n",
       "      <td>-0.000106</td>\n",
       "      <td>0.023148</td>\n",
       "      <td>0.067616</td>\n",
       "      <td>-0.023047</td>\n",
       "      <td>-0.025361</td>\n",
       "      <td>0.067049</td>\n",
       "    </tr>\n",
       "    <tr>\n",
       "      <th>BsmtHalfBath</th>\n",
       "      <td>-0.016844</td>\n",
       "      <td>-0.002333</td>\n",
       "      <td>0.048046</td>\n",
       "      <td>-0.040150</td>\n",
       "      <td>0.117821</td>\n",
       "      <td>-0.038162</td>\n",
       "      <td>-0.012337</td>\n",
       "      <td>0.026673</td>\n",
       "      <td>0.067418</td>\n",
       "      <td>0.070948</td>\n",
       "      <td>...</td>\n",
       "      <td>-0.024536</td>\n",
       "      <td>0.040161</td>\n",
       "      <td>-0.025324</td>\n",
       "      <td>-0.008555</td>\n",
       "      <td>0.035114</td>\n",
       "      <td>0.032121</td>\n",
       "      <td>0.020025</td>\n",
       "      <td>-0.007367</td>\n",
       "      <td>0.032873</td>\n",
       "      <td>-0.046524</td>\n",
       "    </tr>\n",
       "    <tr>\n",
       "      <th>FullBath</th>\n",
       "      <td>0.560664</td>\n",
       "      <td>0.131608</td>\n",
       "      <td>0.126031</td>\n",
       "      <td>0.550600</td>\n",
       "      <td>-0.194149</td>\n",
       "      <td>0.468271</td>\n",
       "      <td>0.439046</td>\n",
       "      <td>0.276833</td>\n",
       "      <td>0.058543</td>\n",
       "      <td>-0.076444</td>\n",
       "      <td>...</td>\n",
       "      <td>0.405656</td>\n",
       "      <td>0.187703</td>\n",
       "      <td>0.259977</td>\n",
       "      <td>-0.115093</td>\n",
       "      <td>0.035353</td>\n",
       "      <td>-0.008106</td>\n",
       "      <td>0.049604</td>\n",
       "      <td>-0.014290</td>\n",
       "      <td>0.055872</td>\n",
       "      <td>-0.019669</td>\n",
       "    </tr>\n",
       "    <tr>\n",
       "      <th>HalfBath</th>\n",
       "      <td>0.284108</td>\n",
       "      <td>0.177354</td>\n",
       "      <td>0.014259</td>\n",
       "      <td>0.273458</td>\n",
       "      <td>-0.060769</td>\n",
       "      <td>0.242656</td>\n",
       "      <td>0.183331</td>\n",
       "      <td>0.201444</td>\n",
       "      <td>0.004262</td>\n",
       "      <td>-0.032148</td>\n",
       "      <td>...</td>\n",
       "      <td>0.163549</td>\n",
       "      <td>0.108080</td>\n",
       "      <td>0.199740</td>\n",
       "      <td>-0.095317</td>\n",
       "      <td>-0.004972</td>\n",
       "      <td>0.072426</td>\n",
       "      <td>0.022381</td>\n",
       "      <td>0.001290</td>\n",
       "      <td>-0.009050</td>\n",
       "      <td>-0.010269</td>\n",
       "    </tr>\n",
       "    <tr>\n",
       "      <th>BedroomAbvGr</th>\n",
       "      <td>0.168213</td>\n",
       "      <td>-0.023438</td>\n",
       "      <td>0.119690</td>\n",
       "      <td>0.101676</td>\n",
       "      <td>0.012980</td>\n",
       "      <td>-0.070651</td>\n",
       "      <td>-0.040581</td>\n",
       "      <td>0.102821</td>\n",
       "      <td>-0.107355</td>\n",
       "      <td>-0.015728</td>\n",
       "      <td>...</td>\n",
       "      <td>0.065253</td>\n",
       "      <td>0.046854</td>\n",
       "      <td>0.093810</td>\n",
       "      <td>0.041570</td>\n",
       "      <td>-0.024478</td>\n",
       "      <td>0.044300</td>\n",
       "      <td>0.070703</td>\n",
       "      <td>0.007767</td>\n",
       "      <td>0.046544</td>\n",
       "      <td>-0.036014</td>\n",
       "    </tr>\n",
       "    <tr>\n",
       "      <th>KitchenAbvGr</th>\n",
       "      <td>-0.135907</td>\n",
       "      <td>0.281721</td>\n",
       "      <td>-0.017784</td>\n",
       "      <td>-0.183882</td>\n",
       "      <td>-0.087001</td>\n",
       "      <td>-0.174800</td>\n",
       "      <td>-0.149598</td>\n",
       "      <td>-0.037610</td>\n",
       "      <td>-0.081007</td>\n",
       "      <td>-0.040751</td>\n",
       "      <td>...</td>\n",
       "      <td>-0.064433</td>\n",
       "      <td>-0.090130</td>\n",
       "      <td>-0.070091</td>\n",
       "      <td>0.037312</td>\n",
       "      <td>-0.024600</td>\n",
       "      <td>-0.051613</td>\n",
       "      <td>-0.014525</td>\n",
       "      <td>0.062341</td>\n",
       "      <td>0.026589</td>\n",
       "      <td>0.031687</td>\n",
       "    </tr>\n",
       "    <tr>\n",
       "      <th>TotRmsAbvGrd</th>\n",
       "      <td>0.533723</td>\n",
       "      <td>0.040380</td>\n",
       "      <td>0.190015</td>\n",
       "      <td>0.427452</td>\n",
       "      <td>-0.057583</td>\n",
       "      <td>0.095589</td>\n",
       "      <td>0.191740</td>\n",
       "      <td>0.280682</td>\n",
       "      <td>0.044316</td>\n",
       "      <td>-0.035227</td>\n",
       "      <td>...</td>\n",
       "      <td>0.337822</td>\n",
       "      <td>0.165984</td>\n",
       "      <td>0.234192</td>\n",
       "      <td>0.004151</td>\n",
       "      <td>-0.006683</td>\n",
       "      <td>0.059383</td>\n",
       "      <td>0.083757</td>\n",
       "      <td>0.024763</td>\n",
       "      <td>0.036907</td>\n",
       "      <td>-0.034516</td>\n",
       "    </tr>\n",
       "    <tr>\n",
       "      <th>Fireplaces</th>\n",
       "      <td>0.466929</td>\n",
       "      <td>-0.045569</td>\n",
       "      <td>0.271364</td>\n",
       "      <td>0.396765</td>\n",
       "      <td>-0.023820</td>\n",
       "      <td>0.147716</td>\n",
       "      <td>0.112581</td>\n",
       "      <td>0.249070</td>\n",
       "      <td>0.260011</td>\n",
       "      <td>0.046921</td>\n",
       "      <td>...</td>\n",
       "      <td>0.269141</td>\n",
       "      <td>0.200019</td>\n",
       "      <td>0.169405</td>\n",
       "      <td>-0.024822</td>\n",
       "      <td>0.011257</td>\n",
       "      <td>0.184530</td>\n",
       "      <td>0.095074</td>\n",
       "      <td>0.001409</td>\n",
       "      <td>0.046357</td>\n",
       "      <td>-0.024096</td>\n",
       "    </tr>\n",
       "    <tr>\n",
       "      <th>GarageYrBlt</th>\n",
       "      <td>0.486362</td>\n",
       "      <td>0.085072</td>\n",
       "      <td>-0.024947</td>\n",
       "      <td>0.547766</td>\n",
       "      <td>-0.324297</td>\n",
       "      <td>0.825667</td>\n",
       "      <td>0.642277</td>\n",
       "      <td>0.252691</td>\n",
       "      <td>0.153484</td>\n",
       "      <td>-0.088011</td>\n",
       "      <td>...</td>\n",
       "      <td>0.564567</td>\n",
       "      <td>0.224577</td>\n",
       "      <td>0.228425</td>\n",
       "      <td>-0.297003</td>\n",
       "      <td>0.023544</td>\n",
       "      <td>-0.075418</td>\n",
       "      <td>-0.014501</td>\n",
       "      <td>-0.032417</td>\n",
       "      <td>0.005337</td>\n",
       "      <td>-0.001014</td>\n",
       "    </tr>\n",
       "    <tr>\n",
       "      <th>GarageCars</th>\n",
       "      <td>0.640409</td>\n",
       "      <td>-0.040110</td>\n",
       "      <td>0.154871</td>\n",
       "      <td>0.600671</td>\n",
       "      <td>-0.185758</td>\n",
       "      <td>0.537850</td>\n",
       "      <td>0.420622</td>\n",
       "      <td>0.364204</td>\n",
       "      <td>0.224054</td>\n",
       "      <td>-0.038264</td>\n",
       "      <td>...</td>\n",
       "      <td>0.882475</td>\n",
       "      <td>0.226342</td>\n",
       "      <td>0.213569</td>\n",
       "      <td>-0.151434</td>\n",
       "      <td>0.035765</td>\n",
       "      <td>0.050494</td>\n",
       "      <td>0.020934</td>\n",
       "      <td>-0.043080</td>\n",
       "      <td>0.040522</td>\n",
       "      <td>-0.039117</td>\n",
       "    </tr>\n",
       "    <tr>\n",
       "      <th>GarageArea</th>\n",
       "      <td>0.623431</td>\n",
       "      <td>-0.098672</td>\n",
       "      <td>0.180403</td>\n",
       "      <td>0.562022</td>\n",
       "      <td>-0.151521</td>\n",
       "      <td>0.478954</td>\n",
       "      <td>0.371600</td>\n",
       "      <td>0.373066</td>\n",
       "      <td>0.296970</td>\n",
       "      <td>-0.018227</td>\n",
       "      <td>...</td>\n",
       "      <td>1.000000</td>\n",
       "      <td>0.224666</td>\n",
       "      <td>0.241435</td>\n",
       "      <td>-0.121777</td>\n",
       "      <td>0.035087</td>\n",
       "      <td>0.051412</td>\n",
       "      <td>0.061047</td>\n",
       "      <td>-0.027400</td>\n",
       "      <td>0.027974</td>\n",
       "      <td>-0.027378</td>\n",
       "    </tr>\n",
       "    <tr>\n",
       "      <th>WoodDeckSF</th>\n",
       "      <td>0.324413</td>\n",
       "      <td>-0.012579</td>\n",
       "      <td>0.171698</td>\n",
       "      <td>0.238923</td>\n",
       "      <td>-0.003334</td>\n",
       "      <td>0.224880</td>\n",
       "      <td>0.205726</td>\n",
       "      <td>0.159718</td>\n",
       "      <td>0.204306</td>\n",
       "      <td>0.067898</td>\n",
       "      <td>...</td>\n",
       "      <td>0.224666</td>\n",
       "      <td>1.000000</td>\n",
       "      <td>0.058661</td>\n",
       "      <td>-0.125989</td>\n",
       "      <td>-0.032771</td>\n",
       "      <td>-0.074181</td>\n",
       "      <td>0.073378</td>\n",
       "      <td>-0.009551</td>\n",
       "      <td>0.021011</td>\n",
       "      <td>0.022270</td>\n",
       "    </tr>\n",
       "    <tr>\n",
       "      <th>OpenPorchSF</th>\n",
       "      <td>0.315856</td>\n",
       "      <td>-0.006100</td>\n",
       "      <td>0.084774</td>\n",
       "      <td>0.308819</td>\n",
       "      <td>-0.032589</td>\n",
       "      <td>0.188686</td>\n",
       "      <td>0.226298</td>\n",
       "      <td>0.125703</td>\n",
       "      <td>0.111761</td>\n",
       "      <td>0.003093</td>\n",
       "      <td>...</td>\n",
       "      <td>0.241435</td>\n",
       "      <td>0.058661</td>\n",
       "      <td>1.000000</td>\n",
       "      <td>-0.093079</td>\n",
       "      <td>-0.005842</td>\n",
       "      <td>0.074304</td>\n",
       "      <td>0.060762</td>\n",
       "      <td>-0.018584</td>\n",
       "      <td>0.071255</td>\n",
       "      <td>-0.057619</td>\n",
       "    </tr>\n",
       "    <tr>\n",
       "      <th>EnclosedPorch</th>\n",
       "      <td>-0.128578</td>\n",
       "      <td>-0.012037</td>\n",
       "      <td>-0.018340</td>\n",
       "      <td>-0.113937</td>\n",
       "      <td>0.070356</td>\n",
       "      <td>-0.387268</td>\n",
       "      <td>-0.193919</td>\n",
       "      <td>-0.110204</td>\n",
       "      <td>-0.102303</td>\n",
       "      <td>0.036543</td>\n",
       "      <td>...</td>\n",
       "      <td>-0.121777</td>\n",
       "      <td>-0.125989</td>\n",
       "      <td>-0.093079</td>\n",
       "      <td>1.000000</td>\n",
       "      <td>-0.037305</td>\n",
       "      <td>-0.082864</td>\n",
       "      <td>0.054203</td>\n",
       "      <td>0.018361</td>\n",
       "      <td>-0.028887</td>\n",
       "      <td>-0.009916</td>\n",
       "    </tr>\n",
       "    <tr>\n",
       "      <th>3SsnPorch</th>\n",
       "      <td>0.044584</td>\n",
       "      <td>-0.043825</td>\n",
       "      <td>0.020423</td>\n",
       "      <td>0.030371</td>\n",
       "      <td>0.025504</td>\n",
       "      <td>0.031355</td>\n",
       "      <td>0.045286</td>\n",
       "      <td>0.018796</td>\n",
       "      <td>0.026451</td>\n",
       "      <td>-0.029993</td>\n",
       "      <td>...</td>\n",
       "      <td>0.035087</td>\n",
       "      <td>-0.032771</td>\n",
       "      <td>-0.005842</td>\n",
       "      <td>-0.037305</td>\n",
       "      <td>1.000000</td>\n",
       "      <td>-0.031436</td>\n",
       "      <td>-0.007992</td>\n",
       "      <td>0.000354</td>\n",
       "      <td>0.029474</td>\n",
       "      <td>0.018645</td>\n",
       "    </tr>\n",
       "    <tr>\n",
       "      <th>ScreenPorch</th>\n",
       "      <td>0.111447</td>\n",
       "      <td>-0.026030</td>\n",
       "      <td>0.043160</td>\n",
       "      <td>0.064886</td>\n",
       "      <td>0.054811</td>\n",
       "      <td>-0.050364</td>\n",
       "      <td>-0.038740</td>\n",
       "      <td>0.061466</td>\n",
       "      <td>0.062021</td>\n",
       "      <td>0.088871</td>\n",
       "      <td>...</td>\n",
       "      <td>0.051412</td>\n",
       "      <td>-0.074181</td>\n",
       "      <td>0.074304</td>\n",
       "      <td>-0.082864</td>\n",
       "      <td>-0.031436</td>\n",
       "      <td>1.000000</td>\n",
       "      <td>0.051307</td>\n",
       "      <td>0.031946</td>\n",
       "      <td>0.023217</td>\n",
       "      <td>0.010694</td>\n",
       "    </tr>\n",
       "    <tr>\n",
       "      <th>PoolArea</th>\n",
       "      <td>0.092404</td>\n",
       "      <td>0.008283</td>\n",
       "      <td>0.077672</td>\n",
       "      <td>0.065166</td>\n",
       "      <td>-0.001985</td>\n",
       "      <td>0.004950</td>\n",
       "      <td>0.005829</td>\n",
       "      <td>0.011723</td>\n",
       "      <td>0.140491</td>\n",
       "      <td>0.041709</td>\n",
       "      <td>...</td>\n",
       "      <td>0.061047</td>\n",
       "      <td>0.073378</td>\n",
       "      <td>0.060762</td>\n",
       "      <td>0.054203</td>\n",
       "      <td>-0.007992</td>\n",
       "      <td>0.051307</td>\n",
       "      <td>1.000000</td>\n",
       "      <td>0.029669</td>\n",
       "      <td>-0.033737</td>\n",
       "      <td>-0.059689</td>\n",
       "    </tr>\n",
       "    <tr>\n",
       "      <th>MiscVal</th>\n",
       "      <td>-0.021190</td>\n",
       "      <td>-0.007683</td>\n",
       "      <td>0.038068</td>\n",
       "      <td>-0.031406</td>\n",
       "      <td>0.068777</td>\n",
       "      <td>-0.034383</td>\n",
       "      <td>-0.010286</td>\n",
       "      <td>-0.029815</td>\n",
       "      <td>0.003571</td>\n",
       "      <td>0.004940</td>\n",
       "      <td>...</td>\n",
       "      <td>-0.027400</td>\n",
       "      <td>-0.009551</td>\n",
       "      <td>-0.018584</td>\n",
       "      <td>0.018361</td>\n",
       "      <td>0.000354</td>\n",
       "      <td>0.031946</td>\n",
       "      <td>0.029669</td>\n",
       "      <td>1.000000</td>\n",
       "      <td>-0.006495</td>\n",
       "      <td>0.004906</td>\n",
       "    </tr>\n",
       "    <tr>\n",
       "      <th>MoSold</th>\n",
       "      <td>0.046432</td>\n",
       "      <td>-0.013585</td>\n",
       "      <td>0.001205</td>\n",
       "      <td>0.070815</td>\n",
       "      <td>-0.003511</td>\n",
       "      <td>0.012398</td>\n",
       "      <td>0.021490</td>\n",
       "      <td>-0.005965</td>\n",
       "      <td>-0.015727</td>\n",
       "      <td>-0.015211</td>\n",
       "      <td>...</td>\n",
       "      <td>0.027974</td>\n",
       "      <td>0.021011</td>\n",
       "      <td>0.071255</td>\n",
       "      <td>-0.028887</td>\n",
       "      <td>0.029474</td>\n",
       "      <td>0.023217</td>\n",
       "      <td>-0.033737</td>\n",
       "      <td>-0.006495</td>\n",
       "      <td>1.000000</td>\n",
       "      <td>-0.145721</td>\n",
       "    </tr>\n",
       "    <tr>\n",
       "      <th>YrSold</th>\n",
       "      <td>-0.028923</td>\n",
       "      <td>-0.021407</td>\n",
       "      <td>-0.014261</td>\n",
       "      <td>-0.027347</td>\n",
       "      <td>0.043950</td>\n",
       "      <td>-0.013618</td>\n",
       "      <td>0.035743</td>\n",
       "      <td>-0.008201</td>\n",
       "      <td>0.014359</td>\n",
       "      <td>0.031706</td>\n",
       "      <td>...</td>\n",
       "      <td>-0.027378</td>\n",
       "      <td>0.022270</td>\n",
       "      <td>-0.057619</td>\n",
       "      <td>-0.009916</td>\n",
       "      <td>0.018645</td>\n",
       "      <td>0.010694</td>\n",
       "      <td>-0.059689</td>\n",
       "      <td>0.004906</td>\n",
       "      <td>-0.145721</td>\n",
       "      <td>1.000000</td>\n",
       "    </tr>\n",
       "  </tbody>\n",
       "</table>\n",
       "<p>36 rows × 36 columns</p>\n",
       "</div>"
      ],
      "text/plain": [
       "               SalePrice  MSSubClass   LotArea  OverallQual  OverallCond  \\\n",
       "SalePrice       1.000000   -0.084284  0.263843     0.790982    -0.077856   \n",
       "MSSubClass     -0.084284    1.000000 -0.139781     0.032628    -0.059316   \n",
       "LotArea         0.263843   -0.139781  1.000000     0.105806    -0.005636   \n",
       "OverallQual     0.790982    0.032628  0.105806     1.000000    -0.091932   \n",
       "OverallCond    -0.077856   -0.059316 -0.005636    -0.091932     1.000000   \n",
       "YearBuilt       0.522897    0.027850  0.014228     0.572323    -0.375983   \n",
       "YearRemodAdd    0.507101    0.040581  0.013788     0.550684     0.073741   \n",
       "MasVnrArea      0.477493    0.022936  0.104160     0.411876    -0.128101   \n",
       "BsmtFinSF1      0.386420   -0.069836  0.214103     0.239666    -0.046231   \n",
       "BsmtFinSF2     -0.011378   -0.065649  0.111170    -0.059119     0.040229   \n",
       "BsmtUnfSF       0.214479   -0.140759 -0.002618     0.308159    -0.136841   \n",
       "TotalBsmtSF     0.613581   -0.238518  0.260833     0.537808    -0.171098   \n",
       "1stFlrSF        0.605852   -0.251758  0.299475     0.476224    -0.144203   \n",
       "2ndFlrSF        0.319334    0.307886  0.050986     0.295493     0.028942   \n",
       "LowQualFinSF   -0.025606    0.046474  0.004779    -0.030429     0.025494   \n",
       "GrLivArea       0.708624    0.074853  0.263116     0.593007    -0.079686   \n",
       "BsmtFullBath    0.227122    0.003491  0.158155     0.111098    -0.054942   \n",
       "BsmtHalfBath   -0.016844   -0.002333  0.048046    -0.040150     0.117821   \n",
       "FullBath        0.560664    0.131608  0.126031     0.550600    -0.194149   \n",
       "HalfBath        0.284108    0.177354  0.014259     0.273458    -0.060769   \n",
       "BedroomAbvGr    0.168213   -0.023438  0.119690     0.101676     0.012980   \n",
       "KitchenAbvGr   -0.135907    0.281721 -0.017784    -0.183882    -0.087001   \n",
       "TotRmsAbvGrd    0.533723    0.040380  0.190015     0.427452    -0.057583   \n",
       "Fireplaces      0.466929   -0.045569  0.271364     0.396765    -0.023820   \n",
       "GarageYrBlt     0.486362    0.085072 -0.024947     0.547766    -0.324297   \n",
       "GarageCars      0.640409   -0.040110  0.154871     0.600671    -0.185758   \n",
       "GarageArea      0.623431   -0.098672  0.180403     0.562022    -0.151521   \n",
       "WoodDeckSF      0.324413   -0.012579  0.171698     0.238923    -0.003334   \n",
       "OpenPorchSF     0.315856   -0.006100  0.084774     0.308819    -0.032589   \n",
       "EnclosedPorch  -0.128578   -0.012037 -0.018340    -0.113937     0.070356   \n",
       "3SsnPorch       0.044584   -0.043825  0.020423     0.030371     0.025504   \n",
       "ScreenPorch     0.111447   -0.026030  0.043160     0.064886     0.054811   \n",
       "PoolArea        0.092404    0.008283  0.077672     0.065166    -0.001985   \n",
       "MiscVal        -0.021190   -0.007683  0.038068    -0.031406     0.068777   \n",
       "MoSold          0.046432   -0.013585  0.001205     0.070815    -0.003511   \n",
       "YrSold         -0.028923   -0.021407 -0.014261    -0.027347     0.043950   \n",
       "\n",
       "               YearBuilt  YearRemodAdd  MasVnrArea  BsmtFinSF1  BsmtFinSF2  \\\n",
       "SalePrice       0.522897      0.507101    0.477493    0.386420   -0.011378   \n",
       "MSSubClass      0.027850      0.040581    0.022936   -0.069836   -0.065649   \n",
       "LotArea         0.014228      0.013788    0.104160    0.214103    0.111170   \n",
       "OverallQual     0.572323      0.550684    0.411876    0.239666   -0.059119   \n",
       "OverallCond    -0.375983      0.073741   -0.128101   -0.046231    0.040229   \n",
       "YearBuilt       1.000000      0.592855    0.315707    0.249503   -0.049107   \n",
       "YearRemodAdd    0.592855      1.000000    0.179618    0.128451   -0.067759   \n",
       "MasVnrArea      0.315707      0.179618    1.000000    0.264736   -0.072319   \n",
       "BsmtFinSF1      0.249503      0.128451    0.264736    1.000000   -0.050117   \n",
       "BsmtFinSF2     -0.049107     -0.067759   -0.072319   -0.050117    1.000000   \n",
       "BsmtUnfSF       0.149040      0.181133    0.114442   -0.495251   -0.209294   \n",
       "TotalBsmtSF     0.391452      0.291066    0.363936    0.522396    0.104810   \n",
       "1stFlrSF        0.281986      0.240379    0.344501    0.445863    0.097117   \n",
       "2ndFlrSF        0.010308      0.140024    0.174561   -0.137079   -0.099260   \n",
       "LowQualFinSF   -0.183784     -0.062419   -0.069071   -0.064503    0.014807   \n",
       "GrLivArea       0.199010      0.287389    0.390857    0.208171   -0.009640   \n",
       "BsmtFullBath    0.187599      0.119470    0.085310    0.649212    0.158678   \n",
       "BsmtHalfBath   -0.038162     -0.012337    0.026673    0.067418    0.070948   \n",
       "FullBath        0.468271      0.439046    0.276833    0.058543   -0.076444   \n",
       "HalfBath        0.242656      0.183331    0.201444    0.004262   -0.032148   \n",
       "BedroomAbvGr   -0.070651     -0.040581    0.102821   -0.107355   -0.015728   \n",
       "KitchenAbvGr   -0.174800     -0.149598   -0.037610   -0.081007   -0.040751   \n",
       "TotRmsAbvGrd    0.095589      0.191740    0.280682    0.044316   -0.035227   \n",
       "Fireplaces      0.147716      0.112581    0.249070    0.260011    0.046921   \n",
       "GarageYrBlt     0.825667      0.642277    0.252691    0.153484   -0.088011   \n",
       "GarageCars      0.537850      0.420622    0.364204    0.224054   -0.038264   \n",
       "GarageArea      0.478954      0.371600    0.373066    0.296970   -0.018227   \n",
       "WoodDeckSF      0.224880      0.205726    0.159718    0.204306    0.067898   \n",
       "OpenPorchSF     0.188686      0.226298    0.125703    0.111761    0.003093   \n",
       "EnclosedPorch  -0.387268     -0.193919   -0.110204   -0.102303    0.036543   \n",
       "3SsnPorch       0.031355      0.045286    0.018796    0.026451   -0.029993   \n",
       "ScreenPorch    -0.050364     -0.038740    0.061466    0.062021    0.088871   \n",
       "PoolArea        0.004950      0.005829    0.011723    0.140491    0.041709   \n",
       "MiscVal        -0.034383     -0.010286   -0.029815    0.003571    0.004940   \n",
       "MoSold          0.012398      0.021490   -0.005965   -0.015727   -0.015211   \n",
       "YrSold         -0.013618      0.035743   -0.008201    0.014359    0.031706   \n",
       "\n",
       "               ...  GarageArea  WoodDeckSF  OpenPorchSF  EnclosedPorch  \\\n",
       "SalePrice      ...    0.623431    0.324413     0.315856      -0.128578   \n",
       "MSSubClass     ...   -0.098672   -0.012579    -0.006100      -0.012037   \n",
       "LotArea        ...    0.180403    0.171698     0.084774      -0.018340   \n",
       "OverallQual    ...    0.562022    0.238923     0.308819      -0.113937   \n",
       "OverallCond    ...   -0.151521   -0.003334    -0.032589       0.070356   \n",
       "YearBuilt      ...    0.478954    0.224880     0.188686      -0.387268   \n",
       "YearRemodAdd   ...    0.371600    0.205726     0.226298      -0.193919   \n",
       "MasVnrArea     ...    0.373066    0.159718     0.125703      -0.110204   \n",
       "BsmtFinSF1     ...    0.296970    0.204306     0.111761      -0.102303   \n",
       "BsmtFinSF2     ...   -0.018227    0.067898     0.003093       0.036543   \n",
       "BsmtUnfSF      ...    0.183303   -0.005316     0.129005      -0.002538   \n",
       "TotalBsmtSF    ...    0.486665    0.232019     0.247264      -0.095478   \n",
       "1stFlrSF       ...    0.489782    0.235459     0.211671      -0.065292   \n",
       "2ndFlrSF       ...    0.138347    0.092165     0.208026       0.061989   \n",
       "LowQualFinSF   ...   -0.067601   -0.025444     0.018251       0.061081   \n",
       "GrLivArea      ...    0.468997    0.247433     0.330224       0.009113   \n",
       "BsmtFullBath   ...    0.179189    0.175315     0.067341      -0.049911   \n",
       "BsmtHalfBath   ...   -0.024536    0.040161    -0.025324      -0.008555   \n",
       "FullBath       ...    0.405656    0.187703     0.259977      -0.115093   \n",
       "HalfBath       ...    0.163549    0.108080     0.199740      -0.095317   \n",
       "BedroomAbvGr   ...    0.065253    0.046854     0.093810       0.041570   \n",
       "KitchenAbvGr   ...   -0.064433   -0.090130    -0.070091       0.037312   \n",
       "TotRmsAbvGrd   ...    0.337822    0.165984     0.234192       0.004151   \n",
       "Fireplaces     ...    0.269141    0.200019     0.169405      -0.024822   \n",
       "GarageYrBlt    ...    0.564567    0.224577     0.228425      -0.297003   \n",
       "GarageCars     ...    0.882475    0.226342     0.213569      -0.151434   \n",
       "GarageArea     ...    1.000000    0.224666     0.241435      -0.121777   \n",
       "WoodDeckSF     ...    0.224666    1.000000     0.058661      -0.125989   \n",
       "OpenPorchSF    ...    0.241435    0.058661     1.000000      -0.093079   \n",
       "EnclosedPorch  ...   -0.121777   -0.125989    -0.093079       1.000000   \n",
       "3SsnPorch      ...    0.035087   -0.032771    -0.005842      -0.037305   \n",
       "ScreenPorch    ...    0.051412   -0.074181     0.074304      -0.082864   \n",
       "PoolArea       ...    0.061047    0.073378     0.060762       0.054203   \n",
       "MiscVal        ...   -0.027400   -0.009551    -0.018584       0.018361   \n",
       "MoSold         ...    0.027974    0.021011     0.071255      -0.028887   \n",
       "YrSold         ...   -0.027378    0.022270    -0.057619      -0.009916   \n",
       "\n",
       "               3SsnPorch  ScreenPorch  PoolArea   MiscVal    MoSold    YrSold  \n",
       "SalePrice       0.044584     0.111447  0.092404 -0.021190  0.046432 -0.028923  \n",
       "MSSubClass     -0.043825    -0.026030  0.008283 -0.007683 -0.013585 -0.021407  \n",
       "LotArea         0.020423     0.043160  0.077672  0.038068  0.001205 -0.014261  \n",
       "OverallQual     0.030371     0.064886  0.065166 -0.031406  0.070815 -0.027347  \n",
       "OverallCond     0.025504     0.054811 -0.001985  0.068777 -0.003511  0.043950  \n",
       "YearBuilt       0.031355    -0.050364  0.004950 -0.034383  0.012398 -0.013618  \n",
       "YearRemodAdd    0.045286    -0.038740  0.005829 -0.010286  0.021490  0.035743  \n",
       "MasVnrArea      0.018796     0.061466  0.011723 -0.029815 -0.005965 -0.008201  \n",
       "BsmtFinSF1      0.026451     0.062021  0.140491  0.003571 -0.015727  0.014359  \n",
       "BsmtFinSF2     -0.029993     0.088871  0.041709  0.004940 -0.015211  0.031706  \n",
       "BsmtUnfSF       0.020764    -0.012579 -0.035092 -0.023837  0.034888 -0.041258  \n",
       "TotalBsmtSF     0.037384     0.084489  0.126053 -0.018479  0.013196 -0.014969  \n",
       "1stFlrSF        0.056104     0.088758  0.131525 -0.021096  0.031372 -0.013604  \n",
       "2ndFlrSF       -0.024358     0.040606  0.081487  0.016197  0.035164 -0.028700  \n",
       "LowQualFinSF   -0.004296     0.026799  0.062157 -0.003793 -0.022174 -0.028921  \n",
       "GrLivArea       0.020643     0.101510  0.170205 -0.002416  0.050240 -0.036526  \n",
       "BsmtFullBath   -0.000106     0.023148  0.067616 -0.023047 -0.025361  0.067049  \n",
       "BsmtHalfBath    0.035114     0.032121  0.020025 -0.007367  0.032873 -0.046524  \n",
       "FullBath        0.035353    -0.008106  0.049604 -0.014290  0.055872 -0.019669  \n",
       "HalfBath       -0.004972     0.072426  0.022381  0.001290 -0.009050 -0.010269  \n",
       "BedroomAbvGr   -0.024478     0.044300  0.070703  0.007767  0.046544 -0.036014  \n",
       "KitchenAbvGr   -0.024600    -0.051613 -0.014525  0.062341  0.026589  0.031687  \n",
       "TotRmsAbvGrd   -0.006683     0.059383  0.083757  0.024763  0.036907 -0.034516  \n",
       "Fireplaces      0.011257     0.184530  0.095074  0.001409  0.046357 -0.024096  \n",
       "GarageYrBlt     0.023544    -0.075418 -0.014501 -0.032417  0.005337 -0.001014  \n",
       "GarageCars      0.035765     0.050494  0.020934 -0.043080  0.040522 -0.039117  \n",
       "GarageArea      0.035087     0.051412  0.061047 -0.027400  0.027974 -0.027378  \n",
       "WoodDeckSF     -0.032771    -0.074181  0.073378 -0.009551  0.021011  0.022270  \n",
       "OpenPorchSF    -0.005842     0.074304  0.060762 -0.018584  0.071255 -0.057619  \n",
       "EnclosedPorch  -0.037305    -0.082864  0.054203  0.018361 -0.028887 -0.009916  \n",
       "3SsnPorch       1.000000    -0.031436 -0.007992  0.000354  0.029474  0.018645  \n",
       "ScreenPorch    -0.031436     1.000000  0.051307  0.031946  0.023217  0.010694  \n",
       "PoolArea       -0.007992     0.051307  1.000000  0.029669 -0.033737 -0.059689  \n",
       "MiscVal         0.000354     0.031946  0.029669  1.000000 -0.006495  0.004906  \n",
       "MoSold          0.029474     0.023217 -0.033737 -0.006495  1.000000 -0.145721  \n",
       "YrSold          0.018645     0.010694 -0.059689  0.004906 -0.145721  1.000000  \n",
       "\n",
       "[36 rows x 36 columns]"
      ]
     },
     "execution_count": 9,
     "metadata": {},
     "output_type": "execute_result"
    }
   ],
   "source": [
    "corr"
   ]
  },
  {
   "cell_type": "markdown",
   "id": "73744201",
   "metadata": {},
   "source": [
    "Now, we would try to analyse the correaltion between all the independent variables with respect to the dependent variable 'Sale Price' and select the significant variables."
   ]
  },
  {
   "cell_type": "code",
   "execution_count": 10,
   "id": "15d5de95",
   "metadata": {},
   "outputs": [],
   "source": [
    "b=df[['OverallQual','YearBuilt','YearRemodAdd','MasVnrArea','TotalBsmtSF','1stFlrSF','GrLivArea','FullBath','TotRmsAbvGrd','Fireplaces','GarageYrBlt','GarageCars','GarageArea']]"
   ]
  },
  {
   "cell_type": "code",
   "execution_count": 11,
   "id": "597fb82e",
   "metadata": {},
   "outputs": [
    {
     "data": {
      "text/plain": [
       "OverallQual      0\n",
       "YearBuilt        0\n",
       "YearRemodAdd     0\n",
       "MasVnrArea       8\n",
       "TotalBsmtSF      0\n",
       "1stFlrSF         0\n",
       "GrLivArea        0\n",
       "FullBath         0\n",
       "TotRmsAbvGrd     0\n",
       "Fireplaces       0\n",
       "GarageYrBlt     81\n",
       "GarageCars       0\n",
       "GarageArea       0\n",
       "dtype: int64"
      ]
     },
     "execution_count": 11,
     "metadata": {},
     "output_type": "execute_result"
    }
   ],
   "source": [
    "b.isnull().sum()"
   ]
  },
  {
   "cell_type": "code",
   "execution_count": 12,
   "id": "91273c0e",
   "metadata": {},
   "outputs": [],
   "source": [
    "c=df['MasVnrArea'].mean()"
   ]
  },
  {
   "cell_type": "code",
   "execution_count": 13,
   "id": "75540a41",
   "metadata": {},
   "outputs": [
    {
     "name": "stderr",
     "output_type": "stream",
     "text": [
      "<ipython-input-13-b673d5a7b967>:1: SettingWithCopyWarning: \n",
      "A value is trying to be set on a copy of a slice from a DataFrame.\n",
      "Try using .loc[row_indexer,col_indexer] = value instead\n",
      "\n",
      "See the caveats in the documentation: https://pandas.pydata.org/pandas-docs/stable/user_guide/indexing.html#returning-a-view-versus-a-copy\n",
      "  b['MasVnrArea']=b['MasVnrArea'].fillna(c)\n"
     ]
    }
   ],
   "source": [
    "b['MasVnrArea']=b['MasVnrArea'].fillna(c)"
   ]
  },
  {
   "cell_type": "code",
   "execution_count": 14,
   "id": "bf141241",
   "metadata": {},
   "outputs": [
    {
     "data": {
      "text/plain": [
       "0"
      ]
     },
     "execution_count": 14,
     "metadata": {},
     "output_type": "execute_result"
    }
   ],
   "source": [
    "b['MasVnrArea'].isnull().sum()"
   ]
  },
  {
   "cell_type": "code",
   "execution_count": 15,
   "id": "7652d6fe",
   "metadata": {},
   "outputs": [
    {
     "data": {
      "text/plain": [
       "81"
      ]
     },
     "execution_count": 15,
     "metadata": {},
     "output_type": "execute_result"
    }
   ],
   "source": [
    "b['GarageYrBlt'].isnull().sum()"
   ]
  },
  {
   "cell_type": "markdown",
   "id": "f810cd5e",
   "metadata": {},
   "source": [
    "Now, to replace the null values as the count of null values is pretty small it is better to choose the mode value of the value_count of the independent variables."
   ]
  },
  {
   "cell_type": "code",
   "execution_count": 16,
   "id": "16a7fe46",
   "metadata": {},
   "outputs": [
    {
     "data": {
      "text/plain": [
       "2005.0    65\n",
       "2006.0    59\n",
       "2004.0    53\n",
       "2003.0    50\n",
       "2007.0    49\n",
       "          ..\n",
       "1906.0     1\n",
       "1908.0     1\n",
       "1933.0     1\n",
       "1900.0     1\n",
       "1927.0     1\n",
       "Name: GarageYrBlt, Length: 97, dtype: int64"
      ]
     },
     "execution_count": 16,
     "metadata": {},
     "output_type": "execute_result"
    }
   ],
   "source": [
    "b['GarageYrBlt'].value_counts()"
   ]
  },
  {
   "cell_type": "code",
   "execution_count": 17,
   "id": "5ea86975",
   "metadata": {},
   "outputs": [
    {
     "data": {
      "text/plain": [
       "<AxesSubplot:xlabel='GarageYrBlt', ylabel='Density'>"
      ]
     },
     "execution_count": 17,
     "metadata": {},
     "output_type": "execute_result"
    },
    {
     "data": {
      "image/png": "[encoded data removed]",
      "text/plain": [
       "<Figure size 432x288 with 1 Axes>"
      ]
     },
     "metadata": {
      "needs_background": "light"
     },
     "output_type": "display_data"
    }
   ],
   "source": [
    "sns.kdeplot(x='GarageYrBlt', data=b, color='red')"
   ]
  },
  {
   "cell_type": "code",
   "execution_count": 18,
   "id": "9a8ea15a",
   "metadata": {},
   "outputs": [
    {
     "name": "stdout",
     "output_type": "stream",
     "text": [
      "0    2005.0\n",
      "dtype: float64\n"
     ]
    }
   ],
   "source": [
    "d=b['GarageYrBlt'].mode()\n",
    "print(d)"
   ]
  },
  {
   "cell_type": "code",
   "execution_count": 19,
   "id": "7275aa84",
   "metadata": {},
   "outputs": [
    {
     "name": "stderr",
     "output_type": "stream",
     "text": [
      "<ipython-input-19-9d6229d2e18c>:1: SettingWithCopyWarning: \n",
      "A value is trying to be set on a copy of a slice from a DataFrame.\n",
      "Try using .loc[row_indexer,col_indexer] = value instead\n",
      "\n",
      "See the caveats in the documentation: https://pandas.pydata.org/pandas-docs/stable/user_guide/indexing.html#returning-a-view-versus-a-copy\n",
      "  b['GarageYrBlt']=b['GarageYrBlt'].fillna(2005)\n"
     ]
    }
   ],
   "source": [
    "b['GarageYrBlt']=b['GarageYrBlt'].fillna(2005)"
   ]
  },
  {
   "cell_type": "code",
   "execution_count": 20,
   "id": "661f10b3",
   "metadata": {},
   "outputs": [
    {
     "data": {
      "text/plain": [
       "0"
      ]
     },
     "execution_count": 20,
     "metadata": {},
     "output_type": "execute_result"
    }
   ],
   "source": [
    "b['GarageYrBlt'].isnull().sum()"
   ]
  },
  {
   "cell_type": "markdown",
   "id": "9471dd0f",
   "metadata": {},
   "source": [
    "# Dealing With Object Data Types"
   ]
  },
  {
   "cell_type": "markdown",
   "id": "5e5dffc1",
   "metadata": {},
   "source": [
    "The object data types have missing values while some of the variables have greater than 90% null values. The values are to be replaced with appropriate substitutes while the varibales with values missing in significant number are to be dropped from the dataset. Below ids the pandas dataframe 'c' with all the object type independent variables."
   ]
  },
  {
   "cell_type": "code",
   "execution_count": 21,
   "id": "c6e02a75",
   "metadata": {},
   "outputs": [],
   "source": [
    "c=df[['MSZoning','Street','Alley','LotShape','LandContour','Utilities','LotConfig','LandSlope','Neighborhood','Condition1','Condition2','BldgType','HouseStyle','RoofStyle','RoofMatl','Exterior1st','Exterior2nd','MasVnrType','ExterQual','ExterCond','Foundation','BsmtQual','BsmtCond','BsmtExposure','BsmtFinType1','BsmtFinType2','Heating','HeatingQC','CentralAir','Electrical','KitchenQual','Functional','FireplaceQu','GarageType','GarageFinish','GarageQual','GarageCond','PavedDrive','PoolQC','Fence','MiscFeature','SaleType','SaleCondition']]"
   ]
  },
  {
   "cell_type": "code",
   "execution_count": 22,
   "id": "7c0fe55c",
   "metadata": {},
   "outputs": [
    {
     "data": {
      "text/plain": [
       "1369"
      ]
     },
     "execution_count": 22,
     "metadata": {},
     "output_type": "execute_result"
    }
   ],
   "source": [
    "c['Alley'].isnull().sum()"
   ]
  },
  {
   "cell_type": "code",
   "execution_count": 23,
   "id": "bf4a3314",
   "metadata": {},
   "outputs": [
    {
     "name": "stdout",
     "output_type": "stream",
     "text": [
      "The percent of rows missing in the feature Alley is  93.76712328767123\n"
     ]
    }
   ],
   "source": [
    "j=((df['Alley'].isnull().sum())/1460)*100\n",
    "print(\"The percent of rows missing in the feature Alley is \", j)"
   ]
  },
  {
   "cell_type": "code",
   "execution_count": 24,
   "id": "f78bd796",
   "metadata": {},
   "outputs": [
    {
     "data": {
      "text/plain": [
       "1406"
      ]
     },
     "execution_count": 24,
     "metadata": {},
     "output_type": "execute_result"
    }
   ],
   "source": [
    "df['MiscFeature'].isnull().sum()"
   ]
  },
  {
   "cell_type": "code",
   "execution_count": 25,
   "id": "b36c8ce5",
   "metadata": {},
   "outputs": [
    {
     "name": "stdout",
     "output_type": "stream",
     "text": [
      "The percent of rows missing in the feature MiscFeature is  96.30136986301369\n"
     ]
    }
   ],
   "source": [
    "k=((df['MiscFeature'].isnull().sum())/1460)*100\n",
    "print(\"The percent of rows missing in the feature MiscFeature is \", k)"
   ]
  },
  {
   "cell_type": "code",
   "execution_count": 26,
   "id": "2c8be6d9",
   "metadata": {},
   "outputs": [
    {
     "data": {
      "text/plain": [
       "8"
      ]
     },
     "execution_count": 26,
     "metadata": {},
     "output_type": "execute_result"
    }
   ],
   "source": [
    "c['MasVnrType'].isnull().sum()"
   ]
  },
  {
   "cell_type": "code",
   "execution_count": 27,
   "id": "75f3113b",
   "metadata": {},
   "outputs": [
    {
     "data": {
      "text/plain": [
       "None       864\n",
       "BrkFace    445\n",
       "Stone      128\n",
       "BrkCmn      15\n",
       "Name: MasVnrType, dtype: int64"
      ]
     },
     "execution_count": 27,
     "metadata": {},
     "output_type": "execute_result"
    }
   ],
   "source": [
    "c['MasVnrType'].value_counts()"
   ]
  },
  {
   "cell_type": "code",
   "execution_count": 28,
   "id": "dd47aba7",
   "metadata": {},
   "outputs": [
    {
     "name": "stderr",
     "output_type": "stream",
     "text": [
      "<ipython-input-28-4052980539ed>:1: SettingWithCopyWarning: \n",
      "A value is trying to be set on a copy of a slice from a DataFrame.\n",
      "Try using .loc[row_indexer,col_indexer] = value instead\n",
      "\n",
      "See the caveats in the documentation: https://pandas.pydata.org/pandas-docs/stable/user_guide/indexing.html#returning-a-view-versus-a-copy\n",
      "  c['MasVnrType']=c['MasVnrType'].fillna('none')\n"
     ]
    }
   ],
   "source": [
    "c['MasVnrType']=c['MasVnrType'].fillna('none')"
   ]
  },
  {
   "cell_type": "code",
   "execution_count": 29,
   "id": "0ae4ad3f",
   "metadata": {},
   "outputs": [
    {
     "data": {
      "text/plain": [
       "0"
      ]
     },
     "execution_count": 29,
     "metadata": {},
     "output_type": "execute_result"
    }
   ],
   "source": [
    "c['MasVnrType'].isnull().sum()"
   ]
  },
  {
   "cell_type": "code",
   "execution_count": 30,
   "id": "52ce449f",
   "metadata": {},
   "outputs": [
    {
     "data": {
      "text/plain": [
       "37"
      ]
     },
     "execution_count": 30,
     "metadata": {},
     "output_type": "execute_result"
    }
   ],
   "source": [
    "c['BsmtQual'].isnull().sum()"
   ]
  },
  {
   "cell_type": "code",
   "execution_count": 31,
   "id": "133bb893",
   "metadata": {},
   "outputs": [
    {
     "data": {
      "text/plain": [
       "TA    649\n",
       "Gd    618\n",
       "Ex    121\n",
       "Fa     35\n",
       "Name: BsmtQual, dtype: int64"
      ]
     },
     "execution_count": 31,
     "metadata": {},
     "output_type": "execute_result"
    }
   ],
   "source": [
    "c['BsmtQual'].value_counts()"
   ]
  },
  {
   "cell_type": "code",
   "execution_count": 32,
   "id": "c0be3ad5",
   "metadata": {},
   "outputs": [
    {
     "name": "stderr",
     "output_type": "stream",
     "text": [
      "<ipython-input-32-9e9346daaebe>:1: SettingWithCopyWarning: \n",
      "A value is trying to be set on a copy of a slice from a DataFrame.\n",
      "Try using .loc[row_indexer,col_indexer] = value instead\n",
      "\n",
      "See the caveats in the documentation: https://pandas.pydata.org/pandas-docs/stable/user_guide/indexing.html#returning-a-view-versus-a-copy\n",
      "  c['BsmtQual']=c['BsmtQual'].fillna('TA')\n"
     ]
    }
   ],
   "source": [
    "c['BsmtQual']=c['BsmtQual'].fillna('TA')"
   ]
  },
  {
   "cell_type": "code",
   "execution_count": 33,
   "id": "5c42d7a6",
   "metadata": {},
   "outputs": [
    {
     "data": {
      "text/plain": [
       "0"
      ]
     },
     "execution_count": 33,
     "metadata": {},
     "output_type": "execute_result"
    }
   ],
   "source": [
    "c['BsmtQual'].isnull().sum()"
   ]
  },
  {
   "cell_type": "code",
   "execution_count": 34,
   "id": "2513c0ec",
   "metadata": {},
   "outputs": [
    {
     "data": {
      "text/plain": [
       "37"
      ]
     },
     "execution_count": 34,
     "metadata": {},
     "output_type": "execute_result"
    }
   ],
   "source": [
    "c['BsmtCond'].isnull().sum()"
   ]
  },
  {
   "cell_type": "code",
   "execution_count": 35,
   "id": "91a72106",
   "metadata": {},
   "outputs": [
    {
     "data": {
      "text/plain": [
       "TA    1311\n",
       "Gd      65\n",
       "Fa      45\n",
       "Po       2\n",
       "Name: BsmtCond, dtype: int64"
      ]
     },
     "execution_count": 35,
     "metadata": {},
     "output_type": "execute_result"
    }
   ],
   "source": [
    "c['BsmtCond'].value_counts()"
   ]
  },
  {
   "cell_type": "code",
   "execution_count": 36,
   "id": "f82cfeda",
   "metadata": {},
   "outputs": [
    {
     "name": "stderr",
     "output_type": "stream",
     "text": [
      "<ipython-input-36-cc5bbfa2eb0b>:1: SettingWithCopyWarning: \n",
      "A value is trying to be set on a copy of a slice from a DataFrame.\n",
      "Try using .loc[row_indexer,col_indexer] = value instead\n",
      "\n",
      "See the caveats in the documentation: https://pandas.pydata.org/pandas-docs/stable/user_guide/indexing.html#returning-a-view-versus-a-copy\n",
      "  c['BsmtCond']=c['BsmtCond'].fillna('TA')\n"
     ]
    }
   ],
   "source": [
    "c['BsmtCond']=c['BsmtCond'].fillna('TA')"
   ]
  },
  {
   "cell_type": "code",
   "execution_count": 37,
   "id": "9bc62bc7",
   "metadata": {},
   "outputs": [
    {
     "data": {
      "text/plain": [
       "0"
      ]
     },
     "execution_count": 37,
     "metadata": {},
     "output_type": "execute_result"
    }
   ],
   "source": [
    "c['BsmtCond'].isnull().sum()"
   ]
  },
  {
   "cell_type": "code",
   "execution_count": 38,
   "id": "2db21008",
   "metadata": {},
   "outputs": [
    {
     "data": {
      "text/plain": [
       "38"
      ]
     },
     "execution_count": 38,
     "metadata": {},
     "output_type": "execute_result"
    }
   ],
   "source": [
    "c['BsmtExposure'].isnull().sum()"
   ]
  },
  {
   "cell_type": "code",
   "execution_count": 39,
   "id": "6590aee5",
   "metadata": {},
   "outputs": [
    {
     "data": {
      "text/plain": [
       "No    953\n",
       "Av    221\n",
       "Gd    134\n",
       "Mn    114\n",
       "Name: BsmtExposure, dtype: int64"
      ]
     },
     "execution_count": 39,
     "metadata": {},
     "output_type": "execute_result"
    }
   ],
   "source": [
    "c['BsmtExposure'].value_counts()"
   ]
  },
  {
   "cell_type": "code",
   "execution_count": 40,
   "id": "e2a1f3ca",
   "metadata": {},
   "outputs": [
    {
     "name": "stderr",
     "output_type": "stream",
     "text": [
      "<ipython-input-40-59366934d11c>:1: SettingWithCopyWarning: \n",
      "A value is trying to be set on a copy of a slice from a DataFrame.\n",
      "Try using .loc[row_indexer,col_indexer] = value instead\n",
      "\n",
      "See the caveats in the documentation: https://pandas.pydata.org/pandas-docs/stable/user_guide/indexing.html#returning-a-view-versus-a-copy\n",
      "  c['BsmtExposure']=c['BsmtExposure'].fillna('No')\n"
     ]
    },
    {
     "data": {
      "text/plain": [
       "0"
      ]
     },
     "execution_count": 40,
     "metadata": {},
     "output_type": "execute_result"
    }
   ],
   "source": [
    "c['BsmtExposure']=c['BsmtExposure'].fillna('No')\n",
    "c['BsmtExposure'].isnull().sum()"
   ]
  },
  {
   "cell_type": "code",
   "execution_count": 41,
   "id": "c608afd5",
   "metadata": {},
   "outputs": [
    {
     "data": {
      "text/plain": [
       "37"
      ]
     },
     "execution_count": 41,
     "metadata": {},
     "output_type": "execute_result"
    }
   ],
   "source": [
    "c['BsmtFinType1'].isnull().sum()"
   ]
  },
  {
   "cell_type": "code",
   "execution_count": 42,
   "id": "f34d09df",
   "metadata": {},
   "outputs": [
    {
     "data": {
      "text/plain": [
       "Unf    430\n",
       "GLQ    418\n",
       "ALQ    220\n",
       "BLQ    148\n",
       "Rec    133\n",
       "LwQ     74\n",
       "Name: BsmtFinType1, dtype: int64"
      ]
     },
     "execution_count": 42,
     "metadata": {},
     "output_type": "execute_result"
    }
   ],
   "source": [
    "c['BsmtFinType1'].value_counts()"
   ]
  },
  {
   "cell_type": "code",
   "execution_count": 43,
   "id": "2c6b048e",
   "metadata": {},
   "outputs": [
    {
     "name": "stderr",
     "output_type": "stream",
     "text": [
      "<ipython-input-43-bc069681da1f>:1: SettingWithCopyWarning: \n",
      "A value is trying to be set on a copy of a slice from a DataFrame.\n",
      "Try using .loc[row_indexer,col_indexer] = value instead\n",
      "\n",
      "See the caveats in the documentation: https://pandas.pydata.org/pandas-docs/stable/user_guide/indexing.html#returning-a-view-versus-a-copy\n",
      "  c['BsmtFinType1']=c['BsmtFinType1'].fillna('unf')\n"
     ]
    },
    {
     "data": {
      "text/plain": [
       "0"
      ]
     },
     "execution_count": 43,
     "metadata": {},
     "output_type": "execute_result"
    }
   ],
   "source": [
    "c['BsmtFinType1']=c['BsmtFinType1'].fillna('unf')\n",
    "c['BsmtFinType1'].isnull().sum()"
   ]
  },
  {
   "cell_type": "code",
   "execution_count": 44,
   "id": "631e4387",
   "metadata": {},
   "outputs": [
    {
     "data": {
      "text/plain": [
       "38"
      ]
     },
     "execution_count": 44,
     "metadata": {},
     "output_type": "execute_result"
    }
   ],
   "source": [
    "c['BsmtFinType2'].isnull().sum()"
   ]
  },
  {
   "cell_type": "code",
   "execution_count": 45,
   "id": "9da5e7ab",
   "metadata": {},
   "outputs": [
    {
     "data": {
      "text/plain": [
       "Unf    1256\n",
       "Rec      54\n",
       "LwQ      46\n",
       "BLQ      33\n",
       "ALQ      19\n",
       "GLQ      14\n",
       "Name: BsmtFinType2, dtype: int64"
      ]
     },
     "execution_count": 45,
     "metadata": {},
     "output_type": "execute_result"
    }
   ],
   "source": [
    "c['BsmtFinType2'].value_counts()"
   ]
  },
  {
   "cell_type": "code",
   "execution_count": 46,
   "id": "f02e0698",
   "metadata": {},
   "outputs": [
    {
     "name": "stderr",
     "output_type": "stream",
     "text": [
      "<ipython-input-46-3af1ccecd623>:1: SettingWithCopyWarning: \n",
      "A value is trying to be set on a copy of a slice from a DataFrame.\n",
      "Try using .loc[row_indexer,col_indexer] = value instead\n",
      "\n",
      "See the caveats in the documentation: https://pandas.pydata.org/pandas-docs/stable/user_guide/indexing.html#returning-a-view-versus-a-copy\n",
      "  c['BsmtFinType2']=c['BsmtFinType2'].fillna('unf')\n"
     ]
    },
    {
     "data": {
      "text/plain": [
       "0"
      ]
     },
     "execution_count": 46,
     "metadata": {},
     "output_type": "execute_result"
    }
   ],
   "source": [
    "c['BsmtFinType2']=c['BsmtFinType2'].fillna('unf')\n",
    "c['BsmtFinType2'].isnull().sum()"
   ]
  },
  {
   "cell_type": "code",
   "execution_count": 47,
   "id": "2fd49aee",
   "metadata": {},
   "outputs": [
    {
     "data": {
      "text/plain": [
       "1"
      ]
     },
     "execution_count": 47,
     "metadata": {},
     "output_type": "execute_result"
    }
   ],
   "source": [
    "c['Electrical'].isnull().sum()"
   ]
  },
  {
   "cell_type": "code",
   "execution_count": 48,
   "id": "35807d84",
   "metadata": {},
   "outputs": [
    {
     "data": {
      "text/plain": [
       "SBrkr    1334\n",
       "FuseA      94\n",
       "FuseF      27\n",
       "FuseP       3\n",
       "Mix         1\n",
       "Name: Electrical, dtype: int64"
      ]
     },
     "execution_count": 48,
     "metadata": {},
     "output_type": "execute_result"
    }
   ],
   "source": [
    "c['Electrical'].value_counts()"
   ]
  },
  {
   "cell_type": "code",
   "execution_count": 49,
   "id": "0f7e1b00",
   "metadata": {},
   "outputs": [
    {
     "name": "stderr",
     "output_type": "stream",
     "text": [
      "<ipython-input-49-2826271a74c4>:1: SettingWithCopyWarning: \n",
      "A value is trying to be set on a copy of a slice from a DataFrame.\n",
      "Try using .loc[row_indexer,col_indexer] = value instead\n",
      "\n",
      "See the caveats in the documentation: https://pandas.pydata.org/pandas-docs/stable/user_guide/indexing.html#returning-a-view-versus-a-copy\n",
      "  c['Electrical']=c['Electrical'].fillna('SBrkr')\n"
     ]
    },
    {
     "data": {
      "text/plain": [
       "0"
      ]
     },
     "execution_count": 49,
     "metadata": {},
     "output_type": "execute_result"
    }
   ],
   "source": [
    "c['Electrical']=c['Electrical'].fillna('SBrkr')\n",
    "c['Electrical'].isnull().sum()"
   ]
  },
  {
   "cell_type": "code",
   "execution_count": 50,
   "id": "46b8ad6b",
   "metadata": {},
   "outputs": [
    {
     "data": {
      "text/plain": [
       "690"
      ]
     },
     "execution_count": 50,
     "metadata": {},
     "output_type": "execute_result"
    }
   ],
   "source": [
    "c['FireplaceQu'].isnull().sum()"
   ]
  },
  {
   "cell_type": "code",
   "execution_count": 51,
   "id": "5f659a72",
   "metadata": {},
   "outputs": [
    {
     "name": "stdout",
     "output_type": "stream",
     "text": [
      "47.26027397260274\n"
     ]
    }
   ],
   "source": [
    "h=((c['FireplaceQu'].isnull().sum())/1460)*100\n",
    "print(h)"
   ]
  },
  {
   "cell_type": "code",
   "execution_count": 52,
   "id": "64e4c59a",
   "metadata": {},
   "outputs": [
    {
     "data": {
      "text/plain": [
       "81"
      ]
     },
     "execution_count": 52,
     "metadata": {},
     "output_type": "execute_result"
    }
   ],
   "source": [
    "c['GarageType'].isnull().sum()"
   ]
  },
  {
   "cell_type": "code",
   "execution_count": 53,
   "id": "8a44c993",
   "metadata": {},
   "outputs": [
    {
     "data": {
      "text/plain": [
       "Attchd     870\n",
       "Detchd     387\n",
       "BuiltIn     88\n",
       "Basment     19\n",
       "CarPort      9\n",
       "2Types       6\n",
       "Name: GarageType, dtype: int64"
      ]
     },
     "execution_count": 53,
     "metadata": {},
     "output_type": "execute_result"
    }
   ],
   "source": [
    "c['GarageType'].value_counts()"
   ]
  },
  {
   "cell_type": "code",
   "execution_count": 54,
   "id": "acc4763a",
   "metadata": {},
   "outputs": [
    {
     "name": "stderr",
     "output_type": "stream",
     "text": [
      "<ipython-input-54-a860940cc968>:1: SettingWithCopyWarning: \n",
      "A value is trying to be set on a copy of a slice from a DataFrame.\n",
      "Try using .loc[row_indexer,col_indexer] = value instead\n",
      "\n",
      "See the caveats in the documentation: https://pandas.pydata.org/pandas-docs/stable/user_guide/indexing.html#returning-a-view-versus-a-copy\n",
      "  c['GarageType']=c['GarageType'].fillna('Attchd')\n"
     ]
    },
    {
     "data": {
      "text/plain": [
       "0"
      ]
     },
     "execution_count": 54,
     "metadata": {},
     "output_type": "execute_result"
    }
   ],
   "source": [
    "c['GarageType']=c['GarageType'].fillna('Attchd')\n",
    "c['GarageType'].isnull().sum()"
   ]
  },
  {
   "cell_type": "code",
   "execution_count": 55,
   "id": "b8c91726",
   "metadata": {},
   "outputs": [
    {
     "data": {
      "text/plain": [
       "81"
      ]
     },
     "execution_count": 55,
     "metadata": {},
     "output_type": "execute_result"
    }
   ],
   "source": [
    "c['GarageFinish'].isnull().sum()"
   ]
  },
  {
   "cell_type": "code",
   "execution_count": 56,
   "id": "87a375c5",
   "metadata": {},
   "outputs": [
    {
     "data": {
      "text/plain": [
       "Unf    605\n",
       "RFn    422\n",
       "Fin    352\n",
       "Name: GarageFinish, dtype: int64"
      ]
     },
     "execution_count": 56,
     "metadata": {},
     "output_type": "execute_result"
    }
   ],
   "source": [
    "c['GarageFinish'].value_counts()"
   ]
  },
  {
   "cell_type": "code",
   "execution_count": 57,
   "id": "38c5b17f",
   "metadata": {},
   "outputs": [
    {
     "name": "stderr",
     "output_type": "stream",
     "text": [
      "<ipython-input-57-d14731c8d27f>:1: SettingWithCopyWarning: \n",
      "A value is trying to be set on a copy of a slice from a DataFrame.\n",
      "Try using .loc[row_indexer,col_indexer] = value instead\n",
      "\n",
      "See the caveats in the documentation: https://pandas.pydata.org/pandas-docs/stable/user_guide/indexing.html#returning-a-view-versus-a-copy\n",
      "  c['GarageFinish']=c['GarageFinish'].fillna('Unf')\n"
     ]
    },
    {
     "data": {
      "text/plain": [
       "0"
      ]
     },
     "execution_count": 57,
     "metadata": {},
     "output_type": "execute_result"
    }
   ],
   "source": [
    "c['GarageFinish']=c['GarageFinish'].fillna('Unf')\n",
    "c['GarageFinish'].isnull().sum()"
   ]
  },
  {
   "cell_type": "code",
   "execution_count": 58,
   "id": "cc2df6b0",
   "metadata": {},
   "outputs": [
    {
     "data": {
      "text/plain": [
       "81"
      ]
     },
     "execution_count": 58,
     "metadata": {},
     "output_type": "execute_result"
    }
   ],
   "source": [
    "c['GarageQual'].isnull().sum()"
   ]
  },
  {
   "cell_type": "code",
   "execution_count": 59,
   "id": "f610fd45",
   "metadata": {},
   "outputs": [
    {
     "data": {
      "text/plain": [
       "TA    1311\n",
       "Fa      48\n",
       "Gd      14\n",
       "Po       3\n",
       "Ex       3\n",
       "Name: GarageQual, dtype: int64"
      ]
     },
     "execution_count": 59,
     "metadata": {},
     "output_type": "execute_result"
    }
   ],
   "source": [
    "c['GarageQual'].value_counts()"
   ]
  },
  {
   "cell_type": "code",
   "execution_count": 60,
   "id": "93afbbd5",
   "metadata": {},
   "outputs": [
    {
     "name": "stderr",
     "output_type": "stream",
     "text": [
      "<ipython-input-60-2d3422f86cee>:1: SettingWithCopyWarning: \n",
      "A value is trying to be set on a copy of a slice from a DataFrame.\n",
      "Try using .loc[row_indexer,col_indexer] = value instead\n",
      "\n",
      "See the caveats in the documentation: https://pandas.pydata.org/pandas-docs/stable/user_guide/indexing.html#returning-a-view-versus-a-copy\n",
      "  c['GarageQual']=c['GarageQual'].fillna('TA')\n"
     ]
    },
    {
     "data": {
      "text/plain": [
       "0"
      ]
     },
     "execution_count": 60,
     "metadata": {},
     "output_type": "execute_result"
    }
   ],
   "source": [
    "c['GarageQual']=c['GarageQual'].fillna('TA')\n",
    "c['GarageQual'].isnull().sum()"
   ]
  },
  {
   "cell_type": "code",
   "execution_count": 61,
   "id": "7b797d82",
   "metadata": {},
   "outputs": [
    {
     "data": {
      "text/plain": [
       "81"
      ]
     },
     "execution_count": 61,
     "metadata": {},
     "output_type": "execute_result"
    }
   ],
   "source": [
    "c['GarageCond'].isnull().sum()"
   ]
  },
  {
   "cell_type": "code",
   "execution_count": 62,
   "id": "72adf57f",
   "metadata": {},
   "outputs": [
    {
     "data": {
      "text/plain": [
       "TA    1326\n",
       "Fa      35\n",
       "Gd       9\n",
       "Po       7\n",
       "Ex       2\n",
       "Name: GarageCond, dtype: int64"
      ]
     },
     "execution_count": 62,
     "metadata": {},
     "output_type": "execute_result"
    }
   ],
   "source": [
    "c['GarageCond'].value_counts()"
   ]
  },
  {
   "cell_type": "code",
   "execution_count": 63,
   "id": "964cf6d7",
   "metadata": {},
   "outputs": [
    {
     "name": "stderr",
     "output_type": "stream",
     "text": [
      "<ipython-input-63-f1c249cadecb>:1: SettingWithCopyWarning: \n",
      "A value is trying to be set on a copy of a slice from a DataFrame.\n",
      "Try using .loc[row_indexer,col_indexer] = value instead\n",
      "\n",
      "See the caveats in the documentation: https://pandas.pydata.org/pandas-docs/stable/user_guide/indexing.html#returning-a-view-versus-a-copy\n",
      "  c['GarageCond']=c['GarageCond'].fillna('TA')\n"
     ]
    },
    {
     "data": {
      "text/plain": [
       "0"
      ]
     },
     "execution_count": 63,
     "metadata": {},
     "output_type": "execute_result"
    }
   ],
   "source": [
    "c['GarageCond']=c['GarageCond'].fillna('TA')\n",
    "c['GarageCond'].isnull().sum()"
   ]
  },
  {
   "cell_type": "code",
   "execution_count": 64,
   "id": "b69914bb",
   "metadata": {},
   "outputs": [
    {
     "data": {
      "text/plain": [
       "1453"
      ]
     },
     "execution_count": 64,
     "metadata": {},
     "output_type": "execute_result"
    }
   ],
   "source": [
    "c['PoolQC'].isnull().sum()"
   ]
  },
  {
   "cell_type": "code",
   "execution_count": 65,
   "id": "3d4236a9",
   "metadata": {},
   "outputs": [
    {
     "name": "stdout",
     "output_type": "stream",
     "text": [
      "99.52054794520548\n"
     ]
    }
   ],
   "source": [
    "i=((c['PoolQC'].isnull().sum())/1460)*100\n",
    "print(i)"
   ]
  },
  {
   "cell_type": "code",
   "execution_count": 66,
   "id": "dcc2e1e9",
   "metadata": {},
   "outputs": [
    {
     "data": {
      "text/plain": [
       "1179"
      ]
     },
     "execution_count": 66,
     "metadata": {},
     "output_type": "execute_result"
    }
   ],
   "source": [
    "c['Fence'].isnull().sum()"
   ]
  },
  {
   "cell_type": "code",
   "execution_count": 67,
   "id": "d030c4e7",
   "metadata": {},
   "outputs": [
    {
     "name": "stdout",
     "output_type": "stream",
     "text": [
      "80.75342465753424\n"
     ]
    }
   ],
   "source": [
    "g=((c['Fence'].isnull().sum())/1460)*100\n",
    "print(g)"
   ]
  },
  {
   "cell_type": "code",
   "execution_count": 68,
   "id": "920c7b45",
   "metadata": {},
   "outputs": [
    {
     "data": {
      "text/plain": [
       "1406"
      ]
     },
     "execution_count": 68,
     "metadata": {},
     "output_type": "execute_result"
    }
   ],
   "source": [
    "c['MiscFeature'].isnull().sum()"
   ]
  },
  {
   "cell_type": "code",
   "execution_count": 69,
   "id": "3e7233cc",
   "metadata": {},
   "outputs": [
    {
     "name": "stdout",
     "output_type": "stream",
     "text": [
      "96.30136986301369\n"
     ]
    }
   ],
   "source": [
    "f=((c['MiscFeature'].isnull().sum())/1460)*100\n",
    "print(f)"
   ]
  },
  {
   "cell_type": "markdown",
   "id": "eecdbdb9",
   "metadata": {},
   "source": [
    "Since, more than 80% of the data rows are null or empty in independent object variables namely 'Alley', 'MiscFeature', 'FireplaceQu', 'PoolQC' and 'Fence'. These missing data points if replaced with mode values will very much possibly happen to be misleading. Thus the better way to deal with such variables in a predicting model is to remove such data values from the trai data set."
   ]
  },
  {
   "cell_type": "code",
   "execution_count": 70,
   "id": "7132107a",
   "metadata": {},
   "outputs": [],
   "source": [
    "c=c.drop(columns=['Alley','MiscFeature','FireplaceQu','PoolQC','Fence'])"
   ]
  },
  {
   "cell_type": "code",
   "execution_count": 71,
   "id": "d75a2fd1",
   "metadata": {},
   "outputs": [
    {
     "data": {
      "text/html": [
       "<div>\n",
       "<style scoped>\n",
       "    .dataframe tbody tr th:only-of-type {\n",
       "        vertical-align: middle;\n",
       "    }\n",
       "\n",
       "    .dataframe tbody tr th {\n",
       "        vertical-align: top;\n",
       "    }\n",
       "\n",
       "    .dataframe thead th {\n",
       "        text-align: right;\n",
       "    }\n",
       "</style>\n",
       "<table border=\"1\" class=\"dataframe\">\n",
       "  <thead>\n",
       "    <tr style=\"text-align: right;\">\n",
       "      <th></th>\n",
       "      <th>MSZoning</th>\n",
       "      <th>Street</th>\n",
       "      <th>LotShape</th>\n",
       "      <th>LandContour</th>\n",
       "      <th>Utilities</th>\n",
       "      <th>LotConfig</th>\n",
       "      <th>LandSlope</th>\n",
       "      <th>Neighborhood</th>\n",
       "      <th>Condition1</th>\n",
       "      <th>Condition2</th>\n",
       "      <th>...</th>\n",
       "      <th>Electrical</th>\n",
       "      <th>KitchenQual</th>\n",
       "      <th>Functional</th>\n",
       "      <th>GarageType</th>\n",
       "      <th>GarageFinish</th>\n",
       "      <th>GarageQual</th>\n",
       "      <th>GarageCond</th>\n",
       "      <th>PavedDrive</th>\n",
       "      <th>SaleType</th>\n",
       "      <th>SaleCondition</th>\n",
       "    </tr>\n",
       "  </thead>\n",
       "  <tbody>\n",
       "    <tr>\n",
       "      <th>0</th>\n",
       "      <td>RL</td>\n",
       "      <td>Pave</td>\n",
       "      <td>Reg</td>\n",
       "      <td>Lvl</td>\n",
       "      <td>AllPub</td>\n",
       "      <td>Inside</td>\n",
       "      <td>Gtl</td>\n",
       "      <td>CollgCr</td>\n",
       "      <td>Norm</td>\n",
       "      <td>Norm</td>\n",
       "      <td>...</td>\n",
       "      <td>SBrkr</td>\n",
       "      <td>Gd</td>\n",
       "      <td>Typ</td>\n",
       "      <td>Attchd</td>\n",
       "      <td>RFn</td>\n",
       "      <td>TA</td>\n",
       "      <td>TA</td>\n",
       "      <td>Y</td>\n",
       "      <td>WD</td>\n",
       "      <td>Normal</td>\n",
       "    </tr>\n",
       "    <tr>\n",
       "      <th>1</th>\n",
       "      <td>RL</td>\n",
       "      <td>Pave</td>\n",
       "      <td>Reg</td>\n",
       "      <td>Lvl</td>\n",
       "      <td>AllPub</td>\n",
       "      <td>FR2</td>\n",
       "      <td>Gtl</td>\n",
       "      <td>Veenker</td>\n",
       "      <td>Feedr</td>\n",
       "      <td>Norm</td>\n",
       "      <td>...</td>\n",
       "      <td>SBrkr</td>\n",
       "      <td>TA</td>\n",
       "      <td>Typ</td>\n",
       "      <td>Attchd</td>\n",
       "      <td>RFn</td>\n",
       "      <td>TA</td>\n",
       "      <td>TA</td>\n",
       "      <td>Y</td>\n",
       "      <td>WD</td>\n",
       "      <td>Normal</td>\n",
       "    </tr>\n",
       "    <tr>\n",
       "      <th>2</th>\n",
       "      <td>RL</td>\n",
       "      <td>Pave</td>\n",
       "      <td>IR1</td>\n",
       "      <td>Lvl</td>\n",
       "      <td>AllPub</td>\n",
       "      <td>Inside</td>\n",
       "      <td>Gtl</td>\n",
       "      <td>CollgCr</td>\n",
       "      <td>Norm</td>\n",
       "      <td>Norm</td>\n",
       "      <td>...</td>\n",
       "      <td>SBrkr</td>\n",
       "      <td>Gd</td>\n",
       "      <td>Typ</td>\n",
       "      <td>Attchd</td>\n",
       "      <td>RFn</td>\n",
       "      <td>TA</td>\n",
       "      <td>TA</td>\n",
       "      <td>Y</td>\n",
       "      <td>WD</td>\n",
       "      <td>Normal</td>\n",
       "    </tr>\n",
       "    <tr>\n",
       "      <th>3</th>\n",
       "      <td>RL</td>\n",
       "      <td>Pave</td>\n",
       "      <td>IR1</td>\n",
       "      <td>Lvl</td>\n",
       "      <td>AllPub</td>\n",
       "      <td>Corner</td>\n",
       "      <td>Gtl</td>\n",
       "      <td>Crawfor</td>\n",
       "      <td>Norm</td>\n",
       "      <td>Norm</td>\n",
       "      <td>...</td>\n",
       "      <td>SBrkr</td>\n",
       "      <td>Gd</td>\n",
       "      <td>Typ</td>\n",
       "      <td>Detchd</td>\n",
       "      <td>Unf</td>\n",
       "      <td>TA</td>\n",
       "      <td>TA</td>\n",
       "      <td>Y</td>\n",
       "      <td>WD</td>\n",
       "      <td>Abnorml</td>\n",
       "    </tr>\n",
       "    <tr>\n",
       "      <th>4</th>\n",
       "      <td>RL</td>\n",
       "      <td>Pave</td>\n",
       "      <td>IR1</td>\n",
       "      <td>Lvl</td>\n",
       "      <td>AllPub</td>\n",
       "      <td>FR2</td>\n",
       "      <td>Gtl</td>\n",
       "      <td>NoRidge</td>\n",
       "      <td>Norm</td>\n",
       "      <td>Norm</td>\n",
       "      <td>...</td>\n",
       "      <td>SBrkr</td>\n",
       "      <td>Gd</td>\n",
       "      <td>Typ</td>\n",
       "      <td>Attchd</td>\n",
       "      <td>RFn</td>\n",
       "      <td>TA</td>\n",
       "      <td>TA</td>\n",
       "      <td>Y</td>\n",
       "      <td>WD</td>\n",
       "      <td>Normal</td>\n",
       "    </tr>\n",
       "  </tbody>\n",
       "</table>\n",
       "<p>5 rows × 38 columns</p>\n",
       "</div>"
      ],
      "text/plain": [
       "  MSZoning Street LotShape LandContour Utilities LotConfig LandSlope  \\\n",
       "0       RL   Pave      Reg         Lvl    AllPub    Inside       Gtl   \n",
       "1       RL   Pave      Reg         Lvl    AllPub       FR2       Gtl   \n",
       "2       RL   Pave      IR1         Lvl    AllPub    Inside       Gtl   \n",
       "3       RL   Pave      IR1         Lvl    AllPub    Corner       Gtl   \n",
       "4       RL   Pave      IR1         Lvl    AllPub       FR2       Gtl   \n",
       "\n",
       "  Neighborhood Condition1 Condition2  ... Electrical KitchenQual Functional  \\\n",
       "0      CollgCr       Norm       Norm  ...      SBrkr          Gd        Typ   \n",
       "1      Veenker      Feedr       Norm  ...      SBrkr          TA        Typ   \n",
       "2      CollgCr       Norm       Norm  ...      SBrkr          Gd        Typ   \n",
       "3      Crawfor       Norm       Norm  ...      SBrkr          Gd        Typ   \n",
       "4      NoRidge       Norm       Norm  ...      SBrkr          Gd        Typ   \n",
       "\n",
       "  GarageType GarageFinish GarageQual GarageCond PavedDrive SaleType  \\\n",
       "0     Attchd          RFn         TA         TA          Y       WD   \n",
       "1     Attchd          RFn         TA         TA          Y       WD   \n",
       "2     Attchd          RFn         TA         TA          Y       WD   \n",
       "3     Detchd          Unf         TA         TA          Y       WD   \n",
       "4     Attchd          RFn         TA         TA          Y       WD   \n",
       "\n",
       "  SaleCondition  \n",
       "0        Normal  \n",
       "1        Normal  \n",
       "2        Normal  \n",
       "3       Abnorml  \n",
       "4        Normal  \n",
       "\n",
       "[5 rows x 38 columns]"
      ]
     },
     "execution_count": 71,
     "metadata": {},
     "output_type": "execute_result"
    }
   ],
   "source": [
    "c.head()"
   ]
  },
  {
   "cell_type": "code",
   "execution_count": 72,
   "id": "22ffc319",
   "metadata": {},
   "outputs": [
    {
     "data": {
      "text/plain": [
       "MSZoning         0\n",
       "Street           0\n",
       "LotShape         0\n",
       "LandContour      0\n",
       "Utilities        0\n",
       "LotConfig        0\n",
       "LandSlope        0\n",
       "Neighborhood     0\n",
       "Condition1       0\n",
       "Condition2       0\n",
       "BldgType         0\n",
       "HouseStyle       0\n",
       "RoofStyle        0\n",
       "RoofMatl         0\n",
       "Exterior1st      0\n",
       "Exterior2nd      0\n",
       "MasVnrType       0\n",
       "ExterQual        0\n",
       "ExterCond        0\n",
       "Foundation       0\n",
       "BsmtQual         0\n",
       "BsmtCond         0\n",
       "BsmtExposure     0\n",
       "BsmtFinType1     0\n",
       "BsmtFinType2     0\n",
       "Heating          0\n",
       "HeatingQC        0\n",
       "CentralAir       0\n",
       "Electrical       0\n",
       "KitchenQual      0\n",
       "Functional       0\n",
       "GarageType       0\n",
       "GarageFinish     0\n",
       "GarageQual       0\n",
       "GarageCond       0\n",
       "PavedDrive       0\n",
       "SaleType         0\n",
       "SaleCondition    0\n",
       "dtype: int64"
      ]
     },
     "execution_count": 72,
     "metadata": {},
     "output_type": "execute_result"
    }
   ],
   "source": [
    "c.isnull().sum()"
   ]
  },
  {
   "cell_type": "markdown",
   "id": "2d2f2055",
   "metadata": {},
   "source": [
    "Now since there are no more null values in the selected object variables, they dummy variables can be created successfully."
   ]
  },
  {
   "cell_type": "code",
   "execution_count": 73,
   "id": "71604c18",
   "metadata": {},
   "outputs": [
    {
     "data": {
      "text/html": [
       "<div>\n",
       "<style scoped>\n",
       "    .dataframe tbody tr th:only-of-type {\n",
       "        vertical-align: middle;\n",
       "    }\n",
       "\n",
       "    .dataframe tbody tr th {\n",
       "        vertical-align: top;\n",
       "    }\n",
       "\n",
       "    .dataframe thead th {\n",
       "        text-align: right;\n",
       "    }\n",
       "</style>\n",
       "<table border=\"1\" class=\"dataframe\">\n",
       "  <thead>\n",
       "    <tr style=\"text-align: right;\">\n",
       "      <th></th>\n",
       "      <th>var_C (all)</th>\n",
       "      <th>var_FV</th>\n",
       "      <th>var_RH</th>\n",
       "      <th>var_RL</th>\n",
       "      <th>var_RM</th>\n",
       "      <th>var_Grvl</th>\n",
       "      <th>var_Pave</th>\n",
       "      <th>var_IR1</th>\n",
       "      <th>var_IR2</th>\n",
       "      <th>var_IR3</th>\n",
       "      <th>...</th>\n",
       "      <th>var_ConLw</th>\n",
       "      <th>var_New</th>\n",
       "      <th>var_Oth</th>\n",
       "      <th>var_WD</th>\n",
       "      <th>var_Abnorml</th>\n",
       "      <th>var_AdjLand</th>\n",
       "      <th>var_Alloca</th>\n",
       "      <th>var_Family</th>\n",
       "      <th>var_Normal</th>\n",
       "      <th>var_Partial</th>\n",
       "    </tr>\n",
       "  </thead>\n",
       "  <tbody>\n",
       "    <tr>\n",
       "      <th>0</th>\n",
       "      <td>0</td>\n",
       "      <td>0</td>\n",
       "      <td>0</td>\n",
       "      <td>1</td>\n",
       "      <td>0</td>\n",
       "      <td>0</td>\n",
       "      <td>1</td>\n",
       "      <td>0</td>\n",
       "      <td>0</td>\n",
       "      <td>0</td>\n",
       "      <td>...</td>\n",
       "      <td>0</td>\n",
       "      <td>0</td>\n",
       "      <td>0</td>\n",
       "      <td>1</td>\n",
       "      <td>0</td>\n",
       "      <td>0</td>\n",
       "      <td>0</td>\n",
       "      <td>0</td>\n",
       "      <td>1</td>\n",
       "      <td>0</td>\n",
       "    </tr>\n",
       "    <tr>\n",
       "      <th>1</th>\n",
       "      <td>0</td>\n",
       "      <td>0</td>\n",
       "      <td>0</td>\n",
       "      <td>1</td>\n",
       "      <td>0</td>\n",
       "      <td>0</td>\n",
       "      <td>1</td>\n",
       "      <td>0</td>\n",
       "      <td>0</td>\n",
       "      <td>0</td>\n",
       "      <td>...</td>\n",
       "      <td>0</td>\n",
       "      <td>0</td>\n",
       "      <td>0</td>\n",
       "      <td>1</td>\n",
       "      <td>0</td>\n",
       "      <td>0</td>\n",
       "      <td>0</td>\n",
       "      <td>0</td>\n",
       "      <td>1</td>\n",
       "      <td>0</td>\n",
       "    </tr>\n",
       "    <tr>\n",
       "      <th>2</th>\n",
       "      <td>0</td>\n",
       "      <td>0</td>\n",
       "      <td>0</td>\n",
       "      <td>1</td>\n",
       "      <td>0</td>\n",
       "      <td>0</td>\n",
       "      <td>1</td>\n",
       "      <td>1</td>\n",
       "      <td>0</td>\n",
       "      <td>0</td>\n",
       "      <td>...</td>\n",
       "      <td>0</td>\n",
       "      <td>0</td>\n",
       "      <td>0</td>\n",
       "      <td>1</td>\n",
       "      <td>0</td>\n",
       "      <td>0</td>\n",
       "      <td>0</td>\n",
       "      <td>0</td>\n",
       "      <td>1</td>\n",
       "      <td>0</td>\n",
       "    </tr>\n",
       "    <tr>\n",
       "      <th>3</th>\n",
       "      <td>0</td>\n",
       "      <td>0</td>\n",
       "      <td>0</td>\n",
       "      <td>1</td>\n",
       "      <td>0</td>\n",
       "      <td>0</td>\n",
       "      <td>1</td>\n",
       "      <td>1</td>\n",
       "      <td>0</td>\n",
       "      <td>0</td>\n",
       "      <td>...</td>\n",
       "      <td>0</td>\n",
       "      <td>0</td>\n",
       "      <td>0</td>\n",
       "      <td>1</td>\n",
       "      <td>1</td>\n",
       "      <td>0</td>\n",
       "      <td>0</td>\n",
       "      <td>0</td>\n",
       "      <td>0</td>\n",
       "      <td>0</td>\n",
       "    </tr>\n",
       "    <tr>\n",
       "      <th>4</th>\n",
       "      <td>0</td>\n",
       "      <td>0</td>\n",
       "      <td>0</td>\n",
       "      <td>1</td>\n",
       "      <td>0</td>\n",
       "      <td>0</td>\n",
       "      <td>1</td>\n",
       "      <td>1</td>\n",
       "      <td>0</td>\n",
       "      <td>0</td>\n",
       "      <td>...</td>\n",
       "      <td>0</td>\n",
       "      <td>0</td>\n",
       "      <td>0</td>\n",
       "      <td>1</td>\n",
       "      <td>0</td>\n",
       "      <td>0</td>\n",
       "      <td>0</td>\n",
       "      <td>0</td>\n",
       "      <td>1</td>\n",
       "      <td>0</td>\n",
       "    </tr>\n",
       "  </tbody>\n",
       "</table>\n",
       "<p>5 rows × 237 columns</p>\n",
       "</div>"
      ],
      "text/plain": [
       "   var_C (all)  var_FV  var_RH  var_RL  var_RM  var_Grvl  var_Pave  var_IR1  \\\n",
       "0            0       0       0       1       0         0         1        0   \n",
       "1            0       0       0       1       0         0         1        0   \n",
       "2            0       0       0       1       0         0         1        1   \n",
       "3            0       0       0       1       0         0         1        1   \n",
       "4            0       0       0       1       0         0         1        1   \n",
       "\n",
       "   var_IR2  var_IR3  ...  var_ConLw  var_New  var_Oth  var_WD  var_Abnorml  \\\n",
       "0        0        0  ...          0        0        0       1            0   \n",
       "1        0        0  ...          0        0        0       1            0   \n",
       "2        0        0  ...          0        0        0       1            0   \n",
       "3        0        0  ...          0        0        0       1            1   \n",
       "4        0        0  ...          0        0        0       1            0   \n",
       "\n",
       "   var_AdjLand  var_Alloca  var_Family  var_Normal  var_Partial  \n",
       "0            0           0           0           1            0  \n",
       "1            0           0           0           1            0  \n",
       "2            0           0           0           1            0  \n",
       "3            0           0           0           0            0  \n",
       "4            0           0           0           1            0  \n",
       "\n",
       "[5 rows x 237 columns]"
      ]
     },
     "execution_count": 73,
     "metadata": {},
     "output_type": "execute_result"
    }
   ],
   "source": [
    "c=pd.get_dummies(c[['MSZoning','Street','LotShape','LandContour','Utilities','LotConfig','LandSlope','Neighborhood','Condition1','Condition2','BldgType','HouseStyle','RoofStyle','RoofMatl','Exterior1st','Exterior2nd','MasVnrType','ExterQual','ExterCond','Foundation','BsmtQual','BsmtCond','BsmtExposure','BsmtFinType1','BsmtFinType2','Heating','HeatingQC','CentralAir','Electrical','KitchenQual','Functional','GarageType','GarageFinish','GarageQual','GarageCond','PavedDrive','SaleType','SaleCondition']],prefix=\"var\").astype(int)\n",
    "c.head()"
   ]
  },
  {
   "cell_type": "markdown",
   "id": "7032aa2e",
   "metadata": {},
   "source": [
    "# Feeding Data For Training Model"
   ]
  },
  {
   "cell_type": "code",
   "execution_count": 74,
   "id": "e7d3322c",
   "metadata": {},
   "outputs": [
    {
     "data": {
      "text/html": [
       "<div>\n",
       "<style scoped>\n",
       "    .dataframe tbody tr th:only-of-type {\n",
       "        vertical-align: middle;\n",
       "    }\n",
       "\n",
       "    .dataframe tbody tr th {\n",
       "        vertical-align: top;\n",
       "    }\n",
       "\n",
       "    .dataframe thead th {\n",
       "        text-align: right;\n",
       "    }\n",
       "</style>\n",
       "<table border=\"1\" class=\"dataframe\">\n",
       "  <thead>\n",
       "    <tr style=\"text-align: right;\">\n",
       "      <th></th>\n",
       "      <th>OverallQual</th>\n",
       "      <th>YearBuilt</th>\n",
       "      <th>YearRemodAdd</th>\n",
       "      <th>MasVnrArea</th>\n",
       "      <th>TotalBsmtSF</th>\n",
       "      <th>1stFlrSF</th>\n",
       "      <th>GrLivArea</th>\n",
       "      <th>FullBath</th>\n",
       "      <th>TotRmsAbvGrd</th>\n",
       "      <th>Fireplaces</th>\n",
       "      <th>GarageYrBlt</th>\n",
       "      <th>GarageCars</th>\n",
       "      <th>GarageArea</th>\n",
       "    </tr>\n",
       "  </thead>\n",
       "  <tbody>\n",
       "    <tr>\n",
       "      <th>0</th>\n",
       "      <td>7</td>\n",
       "      <td>2003</td>\n",
       "      <td>2003</td>\n",
       "      <td>196.0</td>\n",
       "      <td>856</td>\n",
       "      <td>856</td>\n",
       "      <td>1710</td>\n",
       "      <td>2</td>\n",
       "      <td>8</td>\n",
       "      <td>0</td>\n",
       "      <td>2003.0</td>\n",
       "      <td>2</td>\n",
       "      <td>548</td>\n",
       "    </tr>\n",
       "    <tr>\n",
       "      <th>1</th>\n",
       "      <td>6</td>\n",
       "      <td>1976</td>\n",
       "      <td>1976</td>\n",
       "      <td>0.0</td>\n",
       "      <td>1262</td>\n",
       "      <td>1262</td>\n",
       "      <td>1262</td>\n",
       "      <td>2</td>\n",
       "      <td>6</td>\n",
       "      <td>1</td>\n",
       "      <td>1976.0</td>\n",
       "      <td>2</td>\n",
       "      <td>460</td>\n",
       "    </tr>\n",
       "    <tr>\n",
       "      <th>2</th>\n",
       "      <td>7</td>\n",
       "      <td>2001</td>\n",
       "      <td>2002</td>\n",
       "      <td>162.0</td>\n",
       "      <td>920</td>\n",
       "      <td>920</td>\n",
       "      <td>1786</td>\n",
       "      <td>2</td>\n",
       "      <td>6</td>\n",
       "      <td>1</td>\n",
       "      <td>2001.0</td>\n",
       "      <td>2</td>\n",
       "      <td>608</td>\n",
       "    </tr>\n",
       "    <tr>\n",
       "      <th>3</th>\n",
       "      <td>7</td>\n",
       "      <td>1915</td>\n",
       "      <td>1970</td>\n",
       "      <td>0.0</td>\n",
       "      <td>756</td>\n",
       "      <td>961</td>\n",
       "      <td>1717</td>\n",
       "      <td>1</td>\n",
       "      <td>7</td>\n",
       "      <td>1</td>\n",
       "      <td>1998.0</td>\n",
       "      <td>3</td>\n",
       "      <td>642</td>\n",
       "    </tr>\n",
       "    <tr>\n",
       "      <th>4</th>\n",
       "      <td>8</td>\n",
       "      <td>2000</td>\n",
       "      <td>2000</td>\n",
       "      <td>350.0</td>\n",
       "      <td>1145</td>\n",
       "      <td>1145</td>\n",
       "      <td>2198</td>\n",
       "      <td>2</td>\n",
       "      <td>9</td>\n",
       "      <td>1</td>\n",
       "      <td>2000.0</td>\n",
       "      <td>3</td>\n",
       "      <td>836</td>\n",
       "    </tr>\n",
       "  </tbody>\n",
       "</table>\n",
       "</div>"
      ],
      "text/plain": [
       "   OverallQual  YearBuilt  YearRemodAdd  MasVnrArea  TotalBsmtSF  1stFlrSF  \\\n",
       "0            7       2003          2003       196.0          856       856   \n",
       "1            6       1976          1976         0.0         1262      1262   \n",
       "2            7       2001          2002       162.0          920       920   \n",
       "3            7       1915          1970         0.0          756       961   \n",
       "4            8       2000          2000       350.0         1145      1145   \n",
       "\n",
       "   GrLivArea  FullBath  TotRmsAbvGrd  Fireplaces  GarageYrBlt  GarageCars  \\\n",
       "0       1710         2             8           0       2003.0           2   \n",
       "1       1262         2             6           1       1976.0           2   \n",
       "2       1786         2             6           1       2001.0           2   \n",
       "3       1717         1             7           1       1998.0           3   \n",
       "4       2198         2             9           1       2000.0           3   \n",
       "\n",
       "   GarageArea  \n",
       "0         548  \n",
       "1         460  \n",
       "2         608  \n",
       "3         642  \n",
       "4         836  "
      ]
     },
     "execution_count": 74,
     "metadata": {},
     "output_type": "execute_result"
    }
   ],
   "source": [
    "b.head()"
   ]
  },
  {
   "cell_type": "code",
   "execution_count": 75,
   "id": "557f9bec",
   "metadata": {},
   "outputs": [],
   "source": [
    "result = pd.concat([b, c], axis=1)"
   ]
  },
  {
   "cell_type": "code",
   "execution_count": 76,
   "id": "364d0ea8",
   "metadata": {},
   "outputs": [
    {
     "name": "stdout",
     "output_type": "stream",
     "text": [
      "<class 'pandas.core.frame.DataFrame'>\n",
      "RangeIndex: 1460 entries, 0 to 1459\n",
      "Columns: 250 entries, OverallQual to var_Partial\n",
      "dtypes: float64(2), int32(237), int64(11)\n",
      "memory usage: 1.5 MB\n"
     ]
    }
   ],
   "source": [
    "result.info()"
   ]
  },
  {
   "cell_type": "code",
   "execution_count": 77,
   "id": "0bdb4f7d",
   "metadata": {},
   "outputs": [
    {
     "data": {
      "text/plain": [
       "(1460, 250)"
      ]
     },
     "execution_count": 77,
     "metadata": {},
     "output_type": "execute_result"
    }
   ],
   "source": [
    "result.shape"
   ]
  },
  {
   "cell_type": "code",
   "execution_count": 78,
   "id": "13d0222b",
   "metadata": {},
   "outputs": [
    {
     "data": {
      "text/html": [
       "<div>\n",
       "<style scoped>\n",
       "    .dataframe tbody tr th:only-of-type {\n",
       "        vertical-align: middle;\n",
       "    }\n",
       "\n",
       "    .dataframe tbody tr th {\n",
       "        vertical-align: top;\n",
       "    }\n",
       "\n",
       "    .dataframe thead th {\n",
       "        text-align: right;\n",
       "    }\n",
       "</style>\n",
       "<table border=\"1\" class=\"dataframe\">\n",
       "  <thead>\n",
       "    <tr style=\"text-align: right;\">\n",
       "      <th></th>\n",
       "      <th>OverallQual</th>\n",
       "      <th>YearBuilt</th>\n",
       "      <th>YearRemodAdd</th>\n",
       "      <th>MasVnrArea</th>\n",
       "      <th>TotalBsmtSF</th>\n",
       "      <th>1stFlrSF</th>\n",
       "      <th>GrLivArea</th>\n",
       "      <th>FullBath</th>\n",
       "      <th>TotRmsAbvGrd</th>\n",
       "      <th>Fireplaces</th>\n",
       "      <th>...</th>\n",
       "      <th>var_ConLw</th>\n",
       "      <th>var_New</th>\n",
       "      <th>var_Oth</th>\n",
       "      <th>var_WD</th>\n",
       "      <th>var_Abnorml</th>\n",
       "      <th>var_AdjLand</th>\n",
       "      <th>var_Alloca</th>\n",
       "      <th>var_Family</th>\n",
       "      <th>var_Normal</th>\n",
       "      <th>var_Partial</th>\n",
       "    </tr>\n",
       "  </thead>\n",
       "  <tbody>\n",
       "    <tr>\n",
       "      <th>0</th>\n",
       "      <td>7</td>\n",
       "      <td>2003</td>\n",
       "      <td>2003</td>\n",
       "      <td>196.0</td>\n",
       "      <td>856</td>\n",
       "      <td>856</td>\n",
       "      <td>1710</td>\n",
       "      <td>2</td>\n",
       "      <td>8</td>\n",
       "      <td>0</td>\n",
       "      <td>...</td>\n",
       "      <td>0</td>\n",
       "      <td>0</td>\n",
       "      <td>0</td>\n",
       "      <td>1</td>\n",
       "      <td>0</td>\n",
       "      <td>0</td>\n",
       "      <td>0</td>\n",
       "      <td>0</td>\n",
       "      <td>1</td>\n",
       "      <td>0</td>\n",
       "    </tr>\n",
       "    <tr>\n",
       "      <th>1</th>\n",
       "      <td>6</td>\n",
       "      <td>1976</td>\n",
       "      <td>1976</td>\n",
       "      <td>0.0</td>\n",
       "      <td>1262</td>\n",
       "      <td>1262</td>\n",
       "      <td>1262</td>\n",
       "      <td>2</td>\n",
       "      <td>6</td>\n",
       "      <td>1</td>\n",
       "      <td>...</td>\n",
       "      <td>0</td>\n",
       "      <td>0</td>\n",
       "      <td>0</td>\n",
       "      <td>1</td>\n",
       "      <td>0</td>\n",
       "      <td>0</td>\n",
       "      <td>0</td>\n",
       "      <td>0</td>\n",
       "      <td>1</td>\n",
       "      <td>0</td>\n",
       "    </tr>\n",
       "    <tr>\n",
       "      <th>2</th>\n",
       "      <td>7</td>\n",
       "      <td>2001</td>\n",
       "      <td>2002</td>\n",
       "      <td>162.0</td>\n",
       "      <td>920</td>\n",
       "      <td>920</td>\n",
       "      <td>1786</td>\n",
       "      <td>2</td>\n",
       "      <td>6</td>\n",
       "      <td>1</td>\n",
       "      <td>...</td>\n",
       "      <td>0</td>\n",
       "      <td>0</td>\n",
       "      <td>0</td>\n",
       "      <td>1</td>\n",
       "      <td>0</td>\n",
       "      <td>0</td>\n",
       "      <td>0</td>\n",
       "      <td>0</td>\n",
       "      <td>1</td>\n",
       "      <td>0</td>\n",
       "    </tr>\n",
       "    <tr>\n",
       "      <th>3</th>\n",
       "      <td>7</td>\n",
       "      <td>1915</td>\n",
       "      <td>1970</td>\n",
       "      <td>0.0</td>\n",
       "      <td>756</td>\n",
       "      <td>961</td>\n",
       "      <td>1717</td>\n",
       "      <td>1</td>\n",
       "      <td>7</td>\n",
       "      <td>1</td>\n",
       "      <td>...</td>\n",
       "      <td>0</td>\n",
       "      <td>0</td>\n",
       "      <td>0</td>\n",
       "      <td>1</td>\n",
       "      <td>1</td>\n",
       "      <td>0</td>\n",
       "      <td>0</td>\n",
       "      <td>0</td>\n",
       "      <td>0</td>\n",
       "      <td>0</td>\n",
       "    </tr>\n",
       "    <tr>\n",
       "      <th>4</th>\n",
       "      <td>8</td>\n",
       "      <td>2000</td>\n",
       "      <td>2000</td>\n",
       "      <td>350.0</td>\n",
       "      <td>1145</td>\n",
       "      <td>1145</td>\n",
       "      <td>2198</td>\n",
       "      <td>2</td>\n",
       "      <td>9</td>\n",
       "      <td>1</td>\n",
       "      <td>...</td>\n",
       "      <td>0</td>\n",
       "      <td>0</td>\n",
       "      <td>0</td>\n",
       "      <td>1</td>\n",
       "      <td>0</td>\n",
       "      <td>0</td>\n",
       "      <td>0</td>\n",
       "      <td>0</td>\n",
       "      <td>1</td>\n",
       "      <td>0</td>\n",
       "    </tr>\n",
       "  </tbody>\n",
       "</table>\n",
       "<p>5 rows × 250 columns</p>\n",
       "</div>"
      ],
      "text/plain": [
       "   OverallQual  YearBuilt  YearRemodAdd  MasVnrArea  TotalBsmtSF  1stFlrSF  \\\n",
       "0            7       2003          2003       196.0          856       856   \n",
       "1            6       1976          1976         0.0         1262      1262   \n",
       "2            7       2001          2002       162.0          920       920   \n",
       "3            7       1915          1970         0.0          756       961   \n",
       "4            8       2000          2000       350.0         1145      1145   \n",
       "\n",
       "   GrLivArea  FullBath  TotRmsAbvGrd  Fireplaces  ...  var_ConLw  var_New  \\\n",
       "0       1710         2             8           0  ...          0        0   \n",
       "1       1262         2             6           1  ...          0        0   \n",
       "2       1786         2             6           1  ...          0        0   \n",
       "3       1717         1             7           1  ...          0        0   \n",
       "4       2198         2             9           1  ...          0        0   \n",
       "\n",
       "   var_Oth  var_WD  var_Abnorml  var_AdjLand  var_Alloca  var_Family  \\\n",
       "0        0       1            0            0           0           0   \n",
       "1        0       1            0            0           0           0   \n",
       "2        0       1            0            0           0           0   \n",
       "3        0       1            1            0           0           0   \n",
       "4        0       1            0            0           0           0   \n",
       "\n",
       "   var_Normal  var_Partial  \n",
       "0           1            0  \n",
       "1           1            0  \n",
       "2           1            0  \n",
       "3           0            0  \n",
       "4           1            0  \n",
       "\n",
       "[5 rows x 250 columns]"
      ]
     },
     "execution_count": 78,
     "metadata": {},
     "output_type": "execute_result"
    }
   ],
   "source": [
    "result.head()"
   ]
  },
  {
   "cell_type": "code",
   "execution_count": 79,
   "id": "07e01d12",
   "metadata": {},
   "outputs": [],
   "source": [
    "X=result\n",
    "y=df['SalePrice']"
   ]
  },
  {
   "cell_type": "code",
   "execution_count": 80,
   "id": "ce9e4299",
   "metadata": {},
   "outputs": [],
   "source": [
    "from sklearn.model_selection import train_test_split\n",
    "\n",
    "X_train, X_test, y_train, y_test = train_test_split(X, y, test_size=0.3, random_state=42)"
   ]
  },
  {
   "cell_type": "code",
   "execution_count": 81,
   "id": "24279b19",
   "metadata": {},
   "outputs": [
    {
     "name": "stdout",
     "output_type": "stream",
     "text": [
      "The shape of the independent train data set is:  (1022, 250)\n",
      "The shape of the Target variable train data set is:  (1022,)\n",
      "The shape of the independent test data set is:  (438, 250)\n",
      "The shape of the Target variable test data set is:  (438,)\n"
     ]
    }
   ],
   "source": [
    "print(\"The shape of the independent train data set is: \", X_train.shape)\n",
    "print(\"The shape of the Target variable train data set is: \", y_train.shape)\n",
    "print(\"The shape of the independent test data set is: \", X_test.shape)\n",
    "print(\"The shape of the Target variable test data set is: \", y_test.shape)"
   ]
  },
  {
   "cell_type": "code",
   "execution_count": 82,
   "id": "8f7ecc86",
   "metadata": {},
   "outputs": [
    {
     "data": {
      "text/plain": [
       "LinearRegression(normalize=True)"
      ]
     },
     "execution_count": 82,
     "metadata": {},
     "output_type": "execute_result"
    }
   ],
   "source": [
    "from sklearn.linear_model import LinearRegression\n",
    "\n",
    "lin_reg = LinearRegression(normalize=True)\n",
    "lin_reg.fit(X_train, y_train)"
   ]
  },
  {
   "cell_type": "markdown",
   "id": "147a6bff",
   "metadata": {},
   "source": [
    "# Model Evaluation"
   ]
  },
  {
   "cell_type": "markdown",
   "id": "74e5dce0",
   "metadata": {},
   "source": [
    "The model can be evaluated by checking out it's co-efficients and how we can interpret the magnitude of these co-efficients."
   ]
  },
  {
   "cell_type": "code",
   "execution_count": 83,
   "id": "da023ba3",
   "metadata": {},
   "outputs": [
    {
     "name": "stdout",
     "output_type": "stream",
     "text": [
      "-1.9457350217230547e+17\n"
     ]
    }
   ],
   "source": [
    "print(lin_reg.intercept_)"
   ]
  },
  {
   "cell_type": "code",
   "execution_count": 84,
   "id": "9955d9ac",
   "metadata": {},
   "outputs": [
    {
     "data": {
      "text/html": [
       "<div>\n",
       "<style scoped>\n",
       "    .dataframe tbody tr th:only-of-type {\n",
       "        vertical-align: middle;\n",
       "    }\n",
       "\n",
       "    .dataframe tbody tr th {\n",
       "        vertical-align: top;\n",
       "    }\n",
       "\n",
       "    .dataframe thead th {\n",
       "        text-align: right;\n",
       "    }\n",
       "</style>\n",
       "<table border=\"1\" class=\"dataframe\">\n",
       "  <thead>\n",
       "    <tr style=\"text-align: right;\">\n",
       "      <th></th>\n",
       "      <th>Coefficient</th>\n",
       "    </tr>\n",
       "  </thead>\n",
       "  <tbody>\n",
       "    <tr>\n",
       "      <th>OverallQual</th>\n",
       "      <td>6.812778e+03</td>\n",
       "    </tr>\n",
       "    <tr>\n",
       "      <th>YearBuilt</th>\n",
       "      <td>1.482319e+02</td>\n",
       "    </tr>\n",
       "    <tr>\n",
       "      <th>YearRemodAdd</th>\n",
       "      <td>2.646982e+02</td>\n",
       "    </tr>\n",
       "    <tr>\n",
       "      <th>MasVnrArea</th>\n",
       "      <td>1.359338e+01</td>\n",
       "    </tr>\n",
       "    <tr>\n",
       "      <th>TotalBsmtSF</th>\n",
       "      <td>2.617581e+01</td>\n",
       "    </tr>\n",
       "    <tr>\n",
       "      <th>...</th>\n",
       "      <td>...</td>\n",
       "    </tr>\n",
       "    <tr>\n",
       "      <th>var_AdjLand</th>\n",
       "      <td>-1.094715e+17</td>\n",
       "    </tr>\n",
       "    <tr>\n",
       "      <th>var_Alloca</th>\n",
       "      <td>-1.094715e+17</td>\n",
       "    </tr>\n",
       "    <tr>\n",
       "      <th>var_Family</th>\n",
       "      <td>-1.094715e+17</td>\n",
       "    </tr>\n",
       "    <tr>\n",
       "      <th>var_Normal</th>\n",
       "      <td>-1.094715e+17</td>\n",
       "    </tr>\n",
       "    <tr>\n",
       "      <th>var_Partial</th>\n",
       "      <td>-1.094715e+17</td>\n",
       "    </tr>\n",
       "  </tbody>\n",
       "</table>\n",
       "<p>250 rows × 1 columns</p>\n",
       "</div>"
      ],
      "text/plain": [
       "               Coefficient\n",
       "OverallQual   6.812778e+03\n",
       "YearBuilt     1.482319e+02\n",
       "YearRemodAdd  2.646982e+02\n",
       "MasVnrArea    1.359338e+01\n",
       "TotalBsmtSF   2.617581e+01\n",
       "...                    ...\n",
       "var_AdjLand  -1.094715e+17\n",
       "var_Alloca   -1.094715e+17\n",
       "var_Family   -1.094715e+17\n",
       "var_Normal   -1.094715e+17\n",
       "var_Partial  -1.094715e+17\n",
       "\n",
       "[250 rows x 1 columns]"
      ]
     },
     "execution_count": 84,
     "metadata": {},
     "output_type": "execute_result"
    }
   ],
   "source": [
    "coeff_df = pd.DataFrame(lin_reg.coef_, X.columns, columns=['Coefficient'])\n",
    "coeff_df"
   ]
  },
  {
   "cell_type": "markdown",
   "id": "cb23f211",
   "metadata": {},
   "source": [
    "# Model Predictions"
   ]
  },
  {
   "cell_type": "markdown",
   "id": "8a108509",
   "metadata": {},
   "source": [
    "The predictions of the House Price Linear Regression Model will be."
   ]
  },
  {
   "cell_type": "code",
   "execution_count": 85,
   "id": "527d1eea",
   "metadata": {},
   "outputs": [],
   "source": [
    "pred = lin_reg.predict(X_test)"
   ]
  },
  {
   "cell_type": "code",
   "execution_count": 86,
   "id": "fa6f68b1",
   "metadata": {},
   "outputs": [
    {
     "data": {
      "text/html": [
       "<div>\n",
       "<style scoped>\n",
       "    .dataframe tbody tr th:only-of-type {\n",
       "        vertical-align: middle;\n",
       "    }\n",
       "\n",
       "    .dataframe tbody tr th {\n",
       "        vertical-align: top;\n",
       "    }\n",
       "\n",
       "    .dataframe thead th {\n",
       "        text-align: right;\n",
       "    }\n",
       "</style>\n",
       "<table border=\"1\" class=\"dataframe\">\n",
       "  <thead>\n",
       "    <tr style=\"text-align: right;\">\n",
       "      <th></th>\n",
       "      <th>TRUE_VALUES</th>\n",
       "      <th>PREDICTED_VALUES</th>\n",
       "      <th>Error_Values</th>\n",
       "    </tr>\n",
       "  </thead>\n",
       "  <tbody>\n",
       "    <tr>\n",
       "      <th>892</th>\n",
       "      <td>154500</td>\n",
       "      <td>151616.0</td>\n",
       "      <td>2884.0</td>\n",
       "    </tr>\n",
       "    <tr>\n",
       "      <th>1105</th>\n",
       "      <td>325000</td>\n",
       "      <td>360640.0</td>\n",
       "      <td>-35640.0</td>\n",
       "    </tr>\n",
       "    <tr>\n",
       "      <th>413</th>\n",
       "      <td>115000</td>\n",
       "      <td>83968.0</td>\n",
       "      <td>31032.0</td>\n",
       "    </tr>\n",
       "    <tr>\n",
       "      <th>522</th>\n",
       "      <td>159000</td>\n",
       "      <td>196864.0</td>\n",
       "      <td>-37864.0</td>\n",
       "    </tr>\n",
       "    <tr>\n",
       "      <th>1036</th>\n",
       "      <td>315500</td>\n",
       "      <td>340736.0</td>\n",
       "      <td>-25236.0</td>\n",
       "    </tr>\n",
       "    <tr>\n",
       "      <th>...</th>\n",
       "      <td>...</td>\n",
       "      <td>...</td>\n",
       "      <td>...</td>\n",
       "    </tr>\n",
       "    <tr>\n",
       "      <th>331</th>\n",
       "      <td>139000</td>\n",
       "      <td>131136.0</td>\n",
       "      <td>7864.0</td>\n",
       "    </tr>\n",
       "    <tr>\n",
       "      <th>323</th>\n",
       "      <td>126175</td>\n",
       "      <td>122304.0</td>\n",
       "      <td>3871.0</td>\n",
       "    </tr>\n",
       "    <tr>\n",
       "      <th>650</th>\n",
       "      <td>205950</td>\n",
       "      <td>217920.0</td>\n",
       "      <td>-11970.0</td>\n",
       "    </tr>\n",
       "    <tr>\n",
       "      <th>439</th>\n",
       "      <td>110000</td>\n",
       "      <td>106560.0</td>\n",
       "      <td>3440.0</td>\n",
       "    </tr>\n",
       "    <tr>\n",
       "      <th>798</th>\n",
       "      <td>485000</td>\n",
       "      <td>445824.0</td>\n",
       "      <td>39176.0</td>\n",
       "    </tr>\n",
       "  </tbody>\n",
       "</table>\n",
       "<p>438 rows × 3 columns</p>\n",
       "</div>"
      ],
      "text/plain": [
       "      TRUE_VALUES  PREDICTED_VALUES  Error_Values\n",
       "892        154500          151616.0        2884.0\n",
       "1105       325000          360640.0      -35640.0\n",
       "413        115000           83968.0       31032.0\n",
       "522        159000          196864.0      -37864.0\n",
       "1036       315500          340736.0      -25236.0\n",
       "...           ...               ...           ...\n",
       "331        139000          131136.0        7864.0\n",
       "323        126175          122304.0        3871.0\n",
       "650        205950          217920.0      -11970.0\n",
       "439        110000          106560.0        3440.0\n",
       "798        485000          445824.0       39176.0\n",
       "\n",
       "[438 rows x 3 columns]"
      ]
     },
     "execution_count": 86,
     "metadata": {},
     "output_type": "execute_result"
    }
   ],
   "source": [
    "output=pd.DataFrame({'TRUE_VALUES': y_test, 'PREDICTED_VALUES':pred, 'Error_Values': (y_test-pred)})\n",
    "output"
   ]
  },
  {
   "cell_type": "code",
   "execution_count": 87,
   "id": "e4748b69",
   "metadata": {},
   "outputs": [
    {
     "data": {
      "text/plain": [
       "<seaborn.axisgrid.FacetGrid at 0x28f33346820>"
      ]
     },
     "execution_count": 87,
     "metadata": {},
     "output_type": "execute_result"
    },
    {
     "data": {
      "image/png": "[encoded data removed]",
      "text/plain": [
       "<Figure size 360x360 with 1 Axes>"
      ]
     },
     "metadata": {
      "needs_background": "light"
     },
     "output_type": "display_data"
    }
   ],
   "source": [
    "sns.displot(x='TRUE_VALUES', kde=True, bins=5, data=output)"
   ]
  },
  {
   "cell_type": "code",
   "execution_count": 88,
   "id": "d62d42ad",
   "metadata": {},
   "outputs": [
    {
     "data": {
      "text/plain": [
       "<AxesSubplot:xlabel='TRUE_VALUES'>"
      ]
     },
     "execution_count": 88,
     "metadata": {},
     "output_type": "execute_result"
    },
    {
     "data": {
      "image/png": "[encoded data removed]",
      "text/plain": [
       "<Figure size 432x288 with 1 Axes>"
      ]
     },
     "metadata": {
      "needs_background": "light"
     },
     "output_type": "display_data"
    }
   ],
   "source": [
    "sns.stripplot(x='TRUE_VALUES', data=output)"
   ]
  },
  {
   "cell_type": "code",
   "execution_count": 89,
   "id": "fcb7cc43",
   "metadata": {},
   "outputs": [
    {
     "data": {
      "text/plain": [
       "<seaborn.axisgrid.FacetGrid at 0x28f333d7610>"
      ]
     },
     "execution_count": 89,
     "metadata": {},
     "output_type": "execute_result"
    },
    {
     "data": {
      "image/png": "[encoded data removed]",
      "text/plain": [
       "<Figure size 360x360 with 1 Axes>"
      ]
     },
     "metadata": {
      "needs_background": "light"
     },
     "output_type": "display_data"
    }
   ],
   "source": [
    "sns.displot(x='Error_Values', kde=True, bins=5, data=output)"
   ]
  },
  {
   "cell_type": "markdown",
   "id": "041ce1aa",
   "metadata": {},
   "source": [
    "Regression Evaluation Metrics\n",
    "\n",
    "1. Mean Absolute Error(MAE) - It is the mean of the absolute value of the errors.\n",
    "\n",
    "2. Mean Squared Error(MSE) - It is the mean of the squared error.\n",
    "\n",
    "3. Root Mean Squared Error(RMSE) - It is the square root of the mean of the squared errors."
   ]
  },
  {
   "cell_type": "code",
   "execution_count": 90,
   "id": "b394abe0",
   "metadata": {},
   "outputs": [],
   "source": [
    "from sklearn import metrics\n",
    "from sklearn.model_selection import cross_val_score\n",
    "\n",
    "def cross_val(model):\n",
    "    pred = cross_val_score(model, X, y, cv=10)\n",
    "    return pred.mean()\n",
    "\n",
    "def print_evaluate(true, predicted):  \n",
    "    mae = metrics.mean_absolute_error(true, predicted)\n",
    "    mse = metrics.mean_squared_error(true, predicted)\n",
    "    rmse = np.sqrt(metrics.mean_squared_error(true, predicted))\n",
    "    r2_square = metrics.r2_score(true, predicted)\n",
    "    print('MAE:', mae)\n",
    "    print('MSE:', mse)\n",
    "    print('RMSE:', rmse)\n",
    "    print('R2 Square', r2_square)\n",
    "    print()\n",
    "    \n",
    "def evaluate(true, predicted):\n",
    "    mae = metrics.mean_absolute_error(true, predicted)\n",
    "    mse = metrics.mean_squared_error(true, predicted)\n",
    "    rmse = np.sqrt(metrics.mean_squared_error(true, predicted))\n",
    "    r2_square = metrics.r2_score(true, predicted)\n",
    "    return mae, mse, rmse, r2_square"
   ]
  },
  {
   "cell_type": "code",
   "execution_count": 91,
   "id": "416fcb52",
   "metadata": {},
   "outputs": [
    {
     "name": "stdout",
     "output_type": "stream",
     "text": [
      "Test set evaluation:\n",
      "\n",
      "MAE: 9489561540884420.0\n",
      "MSE: 7.348507897755412e+33\n",
      "RMSE: 8.572343843871064e+16\n",
      "R2 Square -1.0530824247288769e+24\n",
      "\n",
      "Train set evaluation:\n",
      "\n",
      "MAE: 14031.109589041096\n",
      "MSE: 460600610.37182\n",
      "RMSE: 21461.607823549006\n",
      "R2 Square 0.9234701611988502\n",
      "\n"
     ]
    }
   ],
   "source": [
    "test_pred = lin_reg.predict(X_test)\n",
    "train_pred = lin_reg.predict(X_train)\n",
    "\n",
    "print('Test set evaluation:')\n",
    "print()\n",
    "print_evaluate(y_test, test_pred)\n",
    "print('Train set evaluation:')\n",
    "print()\n",
    "print_evaluate(y_train, train_pred)"
   ]
  },
  {
   "cell_type": "code",
   "execution_count": 92,
   "id": "a99996ee",
   "metadata": {},
   "outputs": [
    {
     "data": {
      "text/html": [
       "<div>\n",
       "<style scoped>\n",
       "    .dataframe tbody tr th:only-of-type {\n",
       "        vertical-align: middle;\n",
       "    }\n",
       "\n",
       "    .dataframe tbody tr th {\n",
       "        vertical-align: top;\n",
       "    }\n",
       "\n",
       "    .dataframe thead th {\n",
       "        text-align: right;\n",
       "    }\n",
       "</style>\n",
       "<table border=\"1\" class=\"dataframe\">\n",
       "  <thead>\n",
       "    <tr style=\"text-align: right;\">\n",
       "      <th></th>\n",
       "      <th>Model</th>\n",
       "      <th>MAE</th>\n",
       "      <th>MSE</th>\n",
       "      <th>RMSE</th>\n",
       "      <th>R2 Square</th>\n",
       "      <th>Cross Validation</th>\n",
       "    </tr>\n",
       "  </thead>\n",
       "  <tbody>\n",
       "    <tr>\n",
       "      <th>0</th>\n",
       "      <td>Linear Regression</td>\n",
       "      <td>9.489562e+15</td>\n",
       "      <td>7.348508e+33</td>\n",
       "      <td>8.572344e+16</td>\n",
       "      <td>-1.053082e+24</td>\n",
       "      <td>0.824116</td>\n",
       "    </tr>\n",
       "  </tbody>\n",
       "</table>\n",
       "</div>"
      ],
      "text/plain": [
       "               Model           MAE           MSE          RMSE     R2 Square  \\\n",
       "0  Linear Regression  9.489562e+15  7.348508e+33  8.572344e+16 -1.053082e+24   \n",
       "\n",
       "   Cross Validation  \n",
       "0          0.824116  "
      ]
     },
     "execution_count": 92,
     "metadata": {},
     "output_type": "execute_result"
    }
   ],
   "source": [
    "results_df = pd.DataFrame(data=[[\"Linear Regression\", *evaluate(y_test, test_pred) , cross_val(LinearRegression())]], \n",
    "                          columns=['Model', 'MAE', 'MSE', 'RMSE', 'R2 Square', \"Cross Validation\"])\n",
    "results_df"
   ]
  },
  {
   "cell_type": "markdown",
   "id": "536790c9",
   "metadata": {},
   "source": [
    "# Saving Model Using Pickle"
   ]
  },
  {
   "cell_type": "code",
   "execution_count": 93,
   "id": "203f87a3",
   "metadata": {},
   "outputs": [],
   "source": [
    "import pickle"
   ]
  },
  {
   "cell_type": "code",
   "execution_count": 94,
   "id": "110412ae",
   "metadata": {},
   "outputs": [],
   "source": [
    "with open('Dream House Price Prediction Model','wb') as f:\n",
    "    pickle.dump(df, f)"
   ]
  },
  {
   "cell_type": "code",
   "execution_count": 95,
   "id": "c471ac15",
   "metadata": {},
   "outputs": [],
   "source": [
    "with open('Dream House Price Prediction Model', 'rb') as f:\n",
    "    model=pickle.load(f)"
   ]
  },
  {
   "cell_type": "code",
   "execution_count": 96,
   "id": "782d1e0e",
   "metadata": {},
   "outputs": [
    {
     "name": "stdout",
     "output_type": "stream",
     "text": [
      "NAME : DIKSHA DESWAL\n",
      "TEAM : GOAL DIGGERS\n",
      "____________X_______________X_____________X______________X______________X______________X____________X___________X____________\n"
     ]
    }
   ],
   "source": [
    "print(\"NAME : DIKSHA DESWAL\")\n",
    "print(\"TEAM : GOAL DIGGERS\")\n",
    "print('____________X_______________X_____________X______________X______________X______________X____________X___________X____________')"
   ]
  }
 ],
 "metadata": {
  "kernelspec": {
   "display_name": "Python 3",
   "language": "python",
   "name": "python3"
  },
  "language_info": {
   "codemirror_mode": {
    "name": "ipython",
    "version": 3
   },
   "file_extension": ".py",
   "mimetype": "text/x-python",
   "name": "python",
   "nbconvert_exporter": "python",
   "pygments_lexer": "ipython3",
   "version": "3.8.8"
  }
 },
 "nbformat": 4,
 "nbformat_minor": 5
}
